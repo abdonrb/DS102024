{
  "cells": [
    {
      "cell_type": "markdown",
      "metadata": {
        "id": "Ej11X-Yvy6Y9"
      },
      "source": [
        "# SQL"
      ]
    },
    {
      "cell_type": "markdown",
      "metadata": {},
      "source": [
        "## Conexión a PostgreSQL usando SQLAlchemy"
      ]
    },
    {
      "cell_type": "code",
      "execution_count": 1,
      "metadata": {},
      "outputs": [
        {
          "name": "stdout",
          "output_type": "stream",
          "text": [
            "Conexión exitosa\n"
          ]
        }
      ],
      "source": [
        "import os\n",
        "import pandas as pd\n",
        "from typing import Union\n",
        "from sqlalchemy import create_engine, text\n",
        "\n",
        "# Reemplaza USER y PASSWORD del .env\n",
        "engine = create_engine(\"sqlite:///data/sql-murder-mystery.db\")\n",
        "\n",
        "# Probar la conexión\n",
        "try:\n",
        "    connection = engine.connect()\n",
        "    print(\"Conexión exitosa\")\n",
        "    connection.close()\n",
        "except Exception as e:\n",
        "    print(f\"Error al conectar: {e}\")\n",
        "\n",
        "\n",
        "def ejecutar_query(query: str) -> Union[pd.DataFrame, str]:\n",
        "    \"\"\"\n",
        "    Ejecuta una consulta SQL en la base de datos y devuelve un DataFrame.\n",
        "\n",
        "    Parámetros:\n",
        "    - query (str): La consulta SQL a ejecutar.\n",
        "\n",
        "    Retorna:\n",
        "    - Union[pd.DataFrame, pl.DataFrame, str]: Retorna un DataFrame en pandas o polars dependiendo del parámetro 'devolver_polars',\n",
        "      o un mensaje de éxito/error si la operación no es un SELECT.\n",
        "    \"\"\"\n",
        "    \n",
        "    with engine.connect() as connection:\n",
        "        try:\n",
        "            result = connection.execute(text(query))\n",
        "            \n",
        "            # Determinar si es una consulta SELECT para devolver datos\n",
        "            if result.returns_rows:\n",
        "                rows = result.fetchall()\n",
        "                columns = result.keys()\n",
        "\n",
        "                # Convertir filas en un diccionario de listas para crear correctamente el DataFrame en polars\n",
        "                data_dict = {col: [row[idx] for row in rows] for idx, col in enumerate(columns)}\n",
        "\n",
        "                # Verificación de coincidencia de columnas y filas\n",
        "                return pd.DataFrame(data_dict)\n",
        "            else:\n",
        "                connection.commit()\n",
        "                return f\"Query ejecutada correctamente: {result.rowcount} filas afectadas.\"\n",
        "        except Exception as e:\n",
        "            return f\"Error al ejecutar la query: {e}\"\n"
      ]
    },
    {
      "cell_type": "code",
      "execution_count": 10,
      "metadata": {},
      "outputs": [],
      "source": [
        "pd.set_option('display.max_rows', 20)  # Mostrar todas las filas\n",
        "pd.set_option('display.max_colwidth', None)  # Mostrar todas las columnas"
      ]
    },
    {
      "cell_type": "code",
      "execution_count": 17,
      "metadata": {
        "colab": {
          "base_uri": "https://localhost:8080/",
          "height": 159
        },
        "id": "GoWPG4ne6iCz",
        "outputId": "00902065-d2be-429b-cd67-4a495f4aa7b8"
      },
      "outputs": [
        {
          "data": {
            "text/html": [
              "<div>\n",
              "<style scoped>\n",
              "    .dataframe tbody tr th:only-of-type {\n",
              "        vertical-align: middle;\n",
              "    }\n",
              "\n",
              "    .dataframe tbody tr th {\n",
              "        vertical-align: top;\n",
              "    }\n",
              "\n",
              "    .dataframe thead th {\n",
              "        text-align: right;\n",
              "    }\n",
              "</style>\n",
              "<table border=\"1\" class=\"dataframe\">\n",
              "  <thead>\n",
              "    <tr style=\"text-align: right;\">\n",
              "      <th></th>\n",
              "      <th>date</th>\n",
              "      <th>type</th>\n",
              "      <th>description</th>\n",
              "      <th>city</th>\n",
              "    </tr>\n",
              "  </thead>\n",
              "  <tbody>\n",
              "    <tr>\n",
              "      <th>0</th>\n",
              "      <td>20180115</td>\n",
              "      <td>murder</td>\n",
              "      <td>Security footage shows that there were 2 witnesses. The first witness lives at the last house on \"Northwestern Dr\". The second witness, named Annabel, lives somewhere on \"Franklin Ave\".</td>\n",
              "      <td>SQL City</td>\n",
              "    </tr>\n",
              "  </tbody>\n",
              "</table>\n",
              "</div>"
            ],
            "text/plain": [
              "       date    type  \\\n",
              "0  20180115  murder   \n",
              "\n",
              "                                                                                                                                                                                 description  \\\n",
              "0  Security footage shows that there were 2 witnesses. The first witness lives at the last house on \"Northwestern Dr\". The second witness, named Annabel, lives somewhere on \"Franklin Ave\".   \n",
              "\n",
              "       city  \n",
              "0  SQL City  "
            ]
          },
          "execution_count": 17,
          "metadata": {},
          "output_type": "execute_result"
        }
      ],
      "source": [
        "query= \"\"\"SELECT * \n",
        "FROM crime_scene_report\n",
        "WHERE type = 'murder' \n",
        "AND city = 'SQL City'\n",
        "AND date = '20180115'\n",
        "\"\"\"\n",
        "ejecutar_query(query=query)"
      ]
    },
    {
      "cell_type": "code",
      "execution_count": 20,
      "metadata": {
        "colab": {
          "base_uri": "https://localhost:8080/",
          "height": 97
        },
        "id": "zgfE-oyR6bEw",
        "outputId": "29909a01-8e0a-4d89-ea81-9c931d1bcb22"
      },
      "outputs": [
        {
          "data": {
            "text/html": [
              "<div>\n",
              "<style scoped>\n",
              "    .dataframe tbody tr th:only-of-type {\n",
              "        vertical-align: middle;\n",
              "    }\n",
              "\n",
              "    .dataframe tbody tr th {\n",
              "        vertical-align: top;\n",
              "    }\n",
              "\n",
              "    .dataframe thead th {\n",
              "        text-align: right;\n",
              "    }\n",
              "</style>\n",
              "<table border=\"1\" class=\"dataframe\">\n",
              "  <thead>\n",
              "    <tr style=\"text-align: right;\">\n",
              "      <th></th>\n",
              "      <th>id</th>\n",
              "      <th>name</th>\n",
              "      <th>license_id</th>\n",
              "      <th>address_number</th>\n",
              "      <th>address_street_name</th>\n",
              "      <th>ssn</th>\n",
              "    </tr>\n",
              "  </thead>\n",
              "  <tbody>\n",
              "    <tr>\n",
              "      <th>0</th>\n",
              "      <td>16371</td>\n",
              "      <td>Annabel Miller</td>\n",
              "      <td>490173</td>\n",
              "      <td>103</td>\n",
              "      <td>Franklin Ave</td>\n",
              "      <td>318771143</td>\n",
              "    </tr>\n",
              "  </tbody>\n",
              "</table>\n",
              "</div>"
            ],
            "text/plain": [
              "      id            name  license_id  address_number address_street_name  \\\n",
              "0  16371  Annabel Miller      490173             103        Franklin Ave   \n",
              "\n",
              "         ssn  \n",
              "0  318771143  "
            ]
          },
          "execution_count": 20,
          "metadata": {},
          "output_type": "execute_result"
        }
      ],
      "source": [
        "query = \"\"\"SELECT * FROM person \n",
        "where name LIKE '%Annabel%' and address_street_name = 'Franklin Ave' \"\"\"\n",
        "\n",
        "ejecutar_query(query=query)"
      ]
    },
    {
      "cell_type": "code",
      "execution_count": 31,
      "metadata": {},
      "outputs": [
        {
          "data": {
            "text/html": [
              "<div>\n",
              "<style scoped>\n",
              "    .dataframe tbody tr th:only-of-type {\n",
              "        vertical-align: middle;\n",
              "    }\n",
              "\n",
              "    .dataframe tbody tr th {\n",
              "        vertical-align: top;\n",
              "    }\n",
              "\n",
              "    .dataframe thead th {\n",
              "        text-align: right;\n",
              "    }\n",
              "</style>\n",
              "<table border=\"1\" class=\"dataframe\">\n",
              "  <thead>\n",
              "    <tr style=\"text-align: right;\">\n",
              "      <th></th>\n",
              "      <th>id</th>\n",
              "      <th>name</th>\n",
              "      <th>license_id</th>\n",
              "      <th>address_number</th>\n",
              "      <th>address_street_name</th>\n",
              "      <th>ssn</th>\n",
              "    </tr>\n",
              "  </thead>\n",
              "  <tbody>\n",
              "    <tr>\n",
              "      <th>0</th>\n",
              "      <td>14887</td>\n",
              "      <td>Morty Schapiro</td>\n",
              "      <td>118009</td>\n",
              "      <td>4919</td>\n",
              "      <td>Northwestern Dr</td>\n",
              "      <td>111564949</td>\n",
              "    </tr>\n",
              "    <tr>\n",
              "      <th>1</th>\n",
              "      <td>17729</td>\n",
              "      <td>Lasonya Wildey</td>\n",
              "      <td>439686</td>\n",
              "      <td>3824</td>\n",
              "      <td>Northwestern Dr</td>\n",
              "      <td>917817122</td>\n",
              "    </tr>\n",
              "    <tr>\n",
              "      <th>2</th>\n",
              "      <td>53890</td>\n",
              "      <td>Sophie Tiberio</td>\n",
              "      <td>957671</td>\n",
              "      <td>3755</td>\n",
              "      <td>Northwestern Dr</td>\n",
              "      <td>442830147</td>\n",
              "    </tr>\n",
              "    <tr>\n",
              "      <th>3</th>\n",
              "      <td>73368</td>\n",
              "      <td>Torie Thalmann</td>\n",
              "      <td>773862</td>\n",
              "      <td>3697</td>\n",
              "      <td>Northwestern Dr</td>\n",
              "      <td>341559436</td>\n",
              "    </tr>\n",
              "    <tr>\n",
              "      <th>4</th>\n",
              "      <td>96595</td>\n",
              "      <td>Coretta Cubie</td>\n",
              "      <td>303645</td>\n",
              "      <td>3631</td>\n",
              "      <td>Northwestern Dr</td>\n",
              "      <td>378403829</td>\n",
              "    </tr>\n",
              "    <tr>\n",
              "      <th>...</th>\n",
              "      <td>...</td>\n",
              "      <td>...</td>\n",
              "      <td>...</td>\n",
              "      <td>...</td>\n",
              "      <td>...</td>\n",
              "      <td>...</td>\n",
              "    </tr>\n",
              "    <tr>\n",
              "      <th>45</th>\n",
              "      <td>12711</td>\n",
              "      <td>Norman Apolito</td>\n",
              "      <td>667757</td>\n",
              "      <td>599</td>\n",
              "      <td>Northwestern Dr</td>\n",
              "      <td>778264744</td>\n",
              "    </tr>\n",
              "    <tr>\n",
              "      <th>46</th>\n",
              "      <td>85280</td>\n",
              "      <td>Donn Duin</td>\n",
              "      <td>569122</td>\n",
              "      <td>540</td>\n",
              "      <td>Northwestern Dr</td>\n",
              "      <td>613873810</td>\n",
              "    </tr>\n",
              "    <tr>\n",
              "      <th>47</th>\n",
              "      <td>40336</td>\n",
              "      <td>Fredia Billeter</td>\n",
              "      <td>251082</td>\n",
              "      <td>404</td>\n",
              "      <td>Northwestern Dr</td>\n",
              "      <td>108056488</td>\n",
              "    </tr>\n",
              "    <tr>\n",
              "      <th>48</th>\n",
              "      <td>15171</td>\n",
              "      <td>Weldon Penso</td>\n",
              "      <td>336999</td>\n",
              "      <td>311</td>\n",
              "      <td>Northwestern Dr</td>\n",
              "      <td>131379495</td>\n",
              "    </tr>\n",
              "    <tr>\n",
              "      <th>49</th>\n",
              "      <td>89906</td>\n",
              "      <td>Kinsey Erickson</td>\n",
              "      <td>510019</td>\n",
              "      <td>309</td>\n",
              "      <td>Northwestern Dr</td>\n",
              "      <td>635287661</td>\n",
              "    </tr>\n",
              "  </tbody>\n",
              "</table>\n",
              "<p>50 rows × 6 columns</p>\n",
              "</div>"
            ],
            "text/plain": [
              "       id             name  license_id  address_number address_street_name  \\\n",
              "0   14887   Morty Schapiro      118009            4919     Northwestern Dr   \n",
              "1   17729   Lasonya Wildey      439686            3824     Northwestern Dr   \n",
              "2   53890   Sophie Tiberio      957671            3755     Northwestern Dr   \n",
              "3   73368   Torie Thalmann      773862            3697     Northwestern Dr   \n",
              "4   96595    Coretta Cubie      303645            3631     Northwestern Dr   \n",
              "..    ...              ...         ...             ...                 ...   \n",
              "45  12711   Norman Apolito      667757             599     Northwestern Dr   \n",
              "46  85280        Donn Duin      569122             540     Northwestern Dr   \n",
              "47  40336  Fredia Billeter      251082             404     Northwestern Dr   \n",
              "48  15171     Weldon Penso      336999             311     Northwestern Dr   \n",
              "49  89906  Kinsey Erickson      510019             309     Northwestern Dr   \n",
              "\n",
              "          ssn  \n",
              "0   111564949  \n",
              "1   917817122  \n",
              "2   442830147  \n",
              "3   341559436  \n",
              "4   378403829  \n",
              "..        ...  \n",
              "45  778264744  \n",
              "46  613873810  \n",
              "47  108056488  \n",
              "48  131379495  \n",
              "49  635287661  \n",
              "\n",
              "[50 rows x 6 columns]"
            ]
          },
          "execution_count": 31,
          "metadata": {},
          "output_type": "execute_result"
        }
      ],
      "source": [
        "query = \"\"\"SELECT * FROM person \n",
        "where address_street_name = 'Northwestern Dr' \n",
        "ORDER BY address_number DESC \"\"\"\n",
        "\n",
        "ejecutar_query(query=query)"
      ]
    },
    {
      "cell_type": "code",
      "execution_count": 32,
      "metadata": {
        "colab": {
          "base_uri": "https://localhost:8080/",
          "height": 159
        },
        "id": "QSXZaaiVY87_",
        "outputId": "a4c1a398-2a5d-4f4b-f0df-d354442c1a40"
      },
      "outputs": [
        {
          "data": {
            "text/html": [
              "<div>\n",
              "<style scoped>\n",
              "    .dataframe tbody tr th:only-of-type {\n",
              "        vertical-align: middle;\n",
              "    }\n",
              "\n",
              "    .dataframe tbody tr th {\n",
              "        vertical-align: top;\n",
              "    }\n",
              "\n",
              "    .dataframe thead th {\n",
              "        text-align: right;\n",
              "    }\n",
              "</style>\n",
              "<table border=\"1\" class=\"dataframe\">\n",
              "  <thead>\n",
              "    <tr style=\"text-align: right;\">\n",
              "      <th></th>\n",
              "      <th>person_id</th>\n",
              "      <th>transcript</th>\n",
              "    </tr>\n",
              "  </thead>\n",
              "  <tbody>\n",
              "    <tr>\n",
              "      <th>0</th>\n",
              "      <td>14887</td>\n",
              "      <td>I heard a gunshot and then saw a man run out. He had a \"Get Fit Now Gym\" bag. The membership number on the bag started with \"48Z\". Only gold members have those bags. The man got into a car with a plate that included \"H42W\".</td>\n",
              "    </tr>\n",
              "    <tr>\n",
              "      <th>1</th>\n",
              "      <td>16371</td>\n",
              "      <td>I saw the murder happen, and I recognized the killer from my gym when I was working out last week on January the 9th.</td>\n",
              "    </tr>\n",
              "  </tbody>\n",
              "</table>\n",
              "</div>"
            ],
            "text/plain": [
              "   person_id  \\\n",
              "0      14887   \n",
              "1      16371   \n",
              "\n",
              "                                                                                                                                                                                                                        transcript  \n",
              "0  I heard a gunshot and then saw a man run out. He had a \"Get Fit Now Gym\" bag. The membership number on the bag started with \"48Z\". Only gold members have those bags. The man got into a car with a plate that included \"H42W\".  \n",
              "1                                                                                                            I saw the murder happen, and I recognized the killer from my gym when I was working out last week on January the 9th.  "
            ]
          },
          "execution_count": 32,
          "metadata": {},
          "output_type": "execute_result"
        }
      ],
      "source": [
        "query= 'SELECT * FROM interview WHERE person_id = 16371 or person_id = 14887 '\n",
        "\n",
        "ejecutar_query(query=query)"
      ]
    },
    {
      "cell_type": "code",
      "execution_count": 35,
      "metadata": {
        "colab": {
          "base_uri": "https://localhost:8080/",
          "height": 97
        },
        "id": "-bmjZbx1ZonS",
        "outputId": "00762230-f24f-4bb8-9b8c-3cb1fa1dcc51"
      },
      "outputs": [
        {
          "data": {
            "text/html": [
              "<div>\n",
              "<style scoped>\n",
              "    .dataframe tbody tr th:only-of-type {\n",
              "        vertical-align: middle;\n",
              "    }\n",
              "\n",
              "    .dataframe tbody tr th {\n",
              "        vertical-align: top;\n",
              "    }\n",
              "\n",
              "    .dataframe thead th {\n",
              "        text-align: right;\n",
              "    }\n",
              "</style>\n",
              "<table border=\"1\" class=\"dataframe\">\n",
              "  <thead>\n",
              "    <tr style=\"text-align: right;\">\n",
              "      <th></th>\n",
              "      <th>membership_id</th>\n",
              "      <th>check_in_date</th>\n",
              "      <th>check_in_time</th>\n",
              "      <th>check_out_time</th>\n",
              "    </tr>\n",
              "  </thead>\n",
              "  <tbody>\n",
              "    <tr>\n",
              "      <th>0</th>\n",
              "      <td>48Z7A</td>\n",
              "      <td>20180109</td>\n",
              "      <td>1600</td>\n",
              "      <td>1730</td>\n",
              "    </tr>\n",
              "    <tr>\n",
              "      <th>1</th>\n",
              "      <td>48Z55</td>\n",
              "      <td>20180109</td>\n",
              "      <td>1530</td>\n",
              "      <td>1700</td>\n",
              "    </tr>\n",
              "  </tbody>\n",
              "</table>\n",
              "</div>"
            ],
            "text/plain": [
              "  membership_id  check_in_date  check_in_time  check_out_time\n",
              "0         48Z7A       20180109           1600            1730\n",
              "1         48Z55       20180109           1530            1700"
            ]
          },
          "execution_count": 35,
          "metadata": {},
          "output_type": "execute_result"
        }
      ],
      "source": [
        "query= \"\"\"SELECT * FROM get_fit_now_check_in\n",
        "WHERE membership_id LIKE '%48Z%' and check_in_date = 20180109\n",
        "\"\"\"\n",
        "\n",
        "ejecutar_query(query=query)"
      ]
    },
    {
      "cell_type": "code",
      "execution_count": 37,
      "metadata": {
        "colab": {
          "base_uri": "https://localhost:8080/",
          "height": 97
        },
        "id": "hJRXJmuraJfJ",
        "outputId": "6ef2728b-de42-4f29-86ff-d3a7b324312c"
      },
      "outputs": [
        {
          "data": {
            "text/html": [
              "<div>\n",
              "<style scoped>\n",
              "    .dataframe tbody tr th:only-of-type {\n",
              "        vertical-align: middle;\n",
              "    }\n",
              "\n",
              "    .dataframe tbody tr th {\n",
              "        vertical-align: top;\n",
              "    }\n",
              "\n",
              "    .dataframe thead th {\n",
              "        text-align: right;\n",
              "    }\n",
              "</style>\n",
              "<table border=\"1\" class=\"dataframe\">\n",
              "  <thead>\n",
              "    <tr style=\"text-align: right;\">\n",
              "      <th></th>\n",
              "      <th>id</th>\n",
              "      <th>person_id</th>\n",
              "      <th>name</th>\n",
              "      <th>membership_start_date</th>\n",
              "      <th>membership_status</th>\n",
              "    </tr>\n",
              "  </thead>\n",
              "  <tbody>\n",
              "    <tr>\n",
              "      <th>0</th>\n",
              "      <td>48Z55</td>\n",
              "      <td>67318</td>\n",
              "      <td>Jeremy Bowers</td>\n",
              "      <td>20160101</td>\n",
              "      <td>gold</td>\n",
              "    </tr>\n",
              "    <tr>\n",
              "      <th>1</th>\n",
              "      <td>48Z7A</td>\n",
              "      <td>28819</td>\n",
              "      <td>Joe Germuska</td>\n",
              "      <td>20160305</td>\n",
              "      <td>gold</td>\n",
              "    </tr>\n",
              "  </tbody>\n",
              "</table>\n",
              "</div>"
            ],
            "text/plain": [
              "      id  person_id           name  membership_start_date membership_status\n",
              "0  48Z55      67318  Jeremy Bowers               20160101              gold\n",
              "1  48Z7A      28819   Joe Germuska               20160305              gold"
            ]
          },
          "execution_count": 37,
          "metadata": {},
          "output_type": "execute_result"
        }
      ],
      "source": [
        "query= \"\"\"SELECT * FROM get_fit_now_member\n",
        "where id = '48Z7A' or id = '48Z55' \"\"\"\n",
        "\n",
        "ejecutar_query(query=query)"
      ]
    },
    {
      "cell_type": "code",
      "execution_count": 44,
      "metadata": {
        "colab": {
          "base_uri": "https://localhost:8080/",
          "height": 97
        },
        "id": "cVdeElzqa968",
        "outputId": "5678aae8-53af-4c6c-b35b-993f24b815ae"
      },
      "outputs": [
        {
          "data": {
            "text/html": [
              "<div>\n",
              "<style scoped>\n",
              "    .dataframe tbody tr th:only-of-type {\n",
              "        vertical-align: middle;\n",
              "    }\n",
              "\n",
              "    .dataframe tbody tr th {\n",
              "        vertical-align: top;\n",
              "    }\n",
              "\n",
              "    .dataframe thead th {\n",
              "        text-align: right;\n",
              "    }\n",
              "</style>\n",
              "<table border=\"1\" class=\"dataframe\">\n",
              "  <thead>\n",
              "    <tr style=\"text-align: right;\">\n",
              "      <th></th>\n",
              "      <th>id</th>\n",
              "      <th>age</th>\n",
              "      <th>height</th>\n",
              "      <th>eye_color</th>\n",
              "      <th>hair_color</th>\n",
              "      <th>gender</th>\n",
              "      <th>plate_number</th>\n",
              "      <th>car_make</th>\n",
              "      <th>car_model</th>\n",
              "    </tr>\n",
              "  </thead>\n",
              "  <tbody>\n",
              "    <tr>\n",
              "      <th>0</th>\n",
              "      <td>423327</td>\n",
              "      <td>30</td>\n",
              "      <td>70</td>\n",
              "      <td>brown</td>\n",
              "      <td>brown</td>\n",
              "      <td>male</td>\n",
              "      <td>0H42W2</td>\n",
              "      <td>Chevrolet</td>\n",
              "      <td>Spark LS</td>\n",
              "    </tr>\n",
              "    <tr>\n",
              "      <th>1</th>\n",
              "      <td>664760</td>\n",
              "      <td>21</td>\n",
              "      <td>71</td>\n",
              "      <td>black</td>\n",
              "      <td>black</td>\n",
              "      <td>male</td>\n",
              "      <td>4H42WR</td>\n",
              "      <td>Nissan</td>\n",
              "      <td>Altima</td>\n",
              "    </tr>\n",
              "  </tbody>\n",
              "</table>\n",
              "</div>"
            ],
            "text/plain": [
              "       id  age  height eye_color hair_color gender plate_number   car_make  \\\n",
              "0  423327   30      70     brown      brown   male       0H42W2  Chevrolet   \n",
              "1  664760   21      71     black      black   male       4H42WR     Nissan   \n",
              "\n",
              "  car_model  \n",
              "0  Spark LS  \n",
              "1    Altima  "
            ]
          },
          "execution_count": 44,
          "metadata": {},
          "output_type": "execute_result"
        }
      ],
      "source": [
        "query= \"\"\"SELECT * FROM drivers_license\n",
        "WHERE plate_number LIKE '%H42W%'\n",
        "and gender = 'male'\n",
        "\n",
        "\"\"\"\n",
        "\n",
        "ejecutar_query(query=query)"
      ]
    },
    {
      "cell_type": "code",
      "execution_count": 45,
      "metadata": {
        "colab": {
          "base_uri": "https://localhost:8080/",
          "height": 128
        },
        "id": "hRBWuE-Ec8TO",
        "outputId": "74eb542d-4704-4d64-844e-77be4e19b728"
      },
      "outputs": [
        {
          "data": {
            "text/html": [
              "<div>\n",
              "<style scoped>\n",
              "    .dataframe tbody tr th:only-of-type {\n",
              "        vertical-align: middle;\n",
              "    }\n",
              "\n",
              "    .dataframe tbody tr th {\n",
              "        vertical-align: top;\n",
              "    }\n",
              "\n",
              "    .dataframe thead th {\n",
              "        text-align: right;\n",
              "    }\n",
              "</style>\n",
              "<table border=\"1\" class=\"dataframe\">\n",
              "  <thead>\n",
              "    <tr style=\"text-align: right;\">\n",
              "      <th></th>\n",
              "      <th>id</th>\n",
              "      <th>name</th>\n",
              "      <th>license_id</th>\n",
              "      <th>address_number</th>\n",
              "      <th>address_street_name</th>\n",
              "      <th>ssn</th>\n",
              "    </tr>\n",
              "  </thead>\n",
              "  <tbody>\n",
              "    <tr>\n",
              "      <th>0</th>\n",
              "      <td>51739</td>\n",
              "      <td>Tushar Chandra</td>\n",
              "      <td>664760</td>\n",
              "      <td>312</td>\n",
              "      <td>Phi St</td>\n",
              "      <td>137882671</td>\n",
              "    </tr>\n",
              "    <tr>\n",
              "      <th>1</th>\n",
              "      <td>67318</td>\n",
              "      <td>Jeremy Bowers</td>\n",
              "      <td>423327</td>\n",
              "      <td>530</td>\n",
              "      <td>Washington Pl, Apt 3A</td>\n",
              "      <td>871539279</td>\n",
              "    </tr>\n",
              "  </tbody>\n",
              "</table>\n",
              "</div>"
            ],
            "text/plain": [
              "      id            name  license_id  address_number    address_street_name  \\\n",
              "0  51739  Tushar Chandra      664760             312                 Phi St   \n",
              "1  67318   Jeremy Bowers      423327             530  Washington Pl, Apt 3A   \n",
              "\n",
              "         ssn  \n",
              "0  137882671  \n",
              "1  871539279  "
            ]
          },
          "execution_count": 45,
          "metadata": {},
          "output_type": "execute_result"
        }
      ],
      "source": [
        "query= \"\"\" SELECT * FROM person \n",
        "where license_id = '423327' or license_id = '664760' \"\"\"\n",
        "\n",
        "ejecutar_query(query=query)"
      ]
    },
    {
      "cell_type": "code",
      "execution_count": 48,
      "metadata": {},
      "outputs": [
        {
          "data": {
            "text/html": [
              "<div>\n",
              "<style scoped>\n",
              "    .dataframe tbody tr th:only-of-type {\n",
              "        vertical-align: middle;\n",
              "    }\n",
              "\n",
              "    .dataframe tbody tr th {\n",
              "        vertical-align: top;\n",
              "    }\n",
              "\n",
              "    .dataframe thead th {\n",
              "        text-align: right;\n",
              "    }\n",
              "</style>\n",
              "<table border=\"1\" class=\"dataframe\">\n",
              "  <thead>\n",
              "    <tr style=\"text-align: right;\">\n",
              "      <th></th>\n",
              "      <th>id</th>\n",
              "      <th>person_id</th>\n",
              "      <th>name</th>\n",
              "      <th>membership_start_date</th>\n",
              "      <th>membership_status</th>\n",
              "    </tr>\n",
              "  </thead>\n",
              "  <tbody>\n",
              "    <tr>\n",
              "      <th>0</th>\n",
              "      <td>48Z55</td>\n",
              "      <td>67318</td>\n",
              "      <td>Jeremy Bowers</td>\n",
              "      <td>20160101</td>\n",
              "      <td>gold</td>\n",
              "    </tr>\n",
              "  </tbody>\n",
              "</table>\n",
              "</div>"
            ],
            "text/plain": [
              "      id  person_id           name  membership_start_date membership_status\n",
              "0  48Z55      67318  Jeremy Bowers               20160101              gold"
            ]
          },
          "execution_count": 48,
          "metadata": {},
          "output_type": "execute_result"
        }
      ],
      "source": [
        "query= \"\"\" SELECT * FROM get_fit_now_member\n",
        "where person_id = '67318' or person_id = '51739' \"\"\"\n",
        "\n",
        "ejecutar_query(query=query)"
      ]
    },
    {
      "cell_type": "markdown",
      "metadata": {},
      "source": [
        "Como podemos observar, anteriormente annabel y morty nos han dado pistas con la fecha y placa del coche del asesino, eso nos ha llevado a 2 sospechosos a jeremy bower y a Joe Germuska. luego con la pista del gym pudimos corroborar que era jeremy bowers el que estuvo en la fecha y con el coche del asesino."
      ]
    }
  ],
  "metadata": {
    "colab": {
      "collapsed_sections": [],
      "name": "HUMAI - SQL.ipynb",
      "provenance": []
    },
    "kernelspec": {
      "display_name": "bootcamp-ds-Zopo5587-py3.12",
      "language": "python",
      "name": "python3"
    },
    "language_info": {
      "codemirror_mode": {
        "name": "ipython",
        "version": 3
      },
      "file_extension": ".py",
      "mimetype": "text/x-python",
      "name": "python",
      "nbconvert_exporter": "python",
      "pygments_lexer": "ipython3",
      "version": "3.12.6"
    }
  },
  "nbformat": 4,
  "nbformat_minor": 0
}
