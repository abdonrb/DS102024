{
 "cells": [
  {
   "cell_type": "markdown",
   "metadata": {},
   "source": [
    "# Ex1 - Filtrar y ordenar datos"
   ]
  },
  {
   "cell_type": "markdown",
   "metadata": {},
   "source": [
    "### Paso 1. Importar las bibliotecas necesarias"
   ]
  },
  {
   "cell_type": "code",
   "execution_count": 61,
   "metadata": {},
   "outputs": [],
   "source": [
    "import numpy as np\n",
    "import pandas as pd"
   ]
  },
  {
   "cell_type": "markdown",
   "metadata": {},
   "source": [
    "### Paso 2. Importar el conjunto de datos de esta [dirección](https://raw.githubusercontent.com/justmarkham/DAT8/master/data/chipotle.tsv). "
   ]
  },
  {
   "cell_type": "code",
   "execution_count": 62,
   "metadata": {},
   "outputs": [],
   "source": [
    "url = 'https://raw.githubusercontent.com/justmarkham/DAT8/master/data/chipotle.tsv'"
   ]
  },
  {
   "cell_type": "markdown",
   "metadata": {},
   "source": [
    "### Paso 3. Asígnalo a una variable llamada chipo."
   ]
  },
  {
   "cell_type": "code",
   "execution_count": 63,
   "metadata": {},
   "outputs": [],
   "source": [
    "chipo = pd.read_csv(url, sep='\\t')"
   ]
  },
  {
   "cell_type": "code",
   "execution_count": 64,
   "metadata": {},
   "outputs": [],
   "source": [
    "# chipo_copia = chipo.copy()"
   ]
  },
  {
   "cell_type": "code",
   "execution_count": 65,
   "metadata": {},
   "outputs": [
    {
     "data": {
      "text/html": [
       "<div>\n",
       "<style scoped>\n",
       "    .dataframe tbody tr th:only-of-type {\n",
       "        vertical-align: middle;\n",
       "    }\n",
       "\n",
       "    .dataframe tbody tr th {\n",
       "        vertical-align: top;\n",
       "    }\n",
       "\n",
       "    .dataframe thead th {\n",
       "        text-align: right;\n",
       "    }\n",
       "</style>\n",
       "<table border=\"1\" class=\"dataframe\">\n",
       "  <thead>\n",
       "    <tr style=\"text-align: right;\">\n",
       "      <th></th>\n",
       "      <th>order_id</th>\n",
       "      <th>quantity</th>\n",
       "      <th>item_name</th>\n",
       "      <th>choice_description</th>\n",
       "      <th>item_price</th>\n",
       "    </tr>\n",
       "  </thead>\n",
       "  <tbody>\n",
       "    <tr>\n",
       "      <th>0</th>\n",
       "      <td>1</td>\n",
       "      <td>1</td>\n",
       "      <td>Chips and Fresh Tomato Salsa</td>\n",
       "      <td>NaN</td>\n",
       "      <td>$2.39</td>\n",
       "    </tr>\n",
       "    <tr>\n",
       "      <th>1</th>\n",
       "      <td>1</td>\n",
       "      <td>1</td>\n",
       "      <td>Izze</td>\n",
       "      <td>[Clementine]</td>\n",
       "      <td>$3.39</td>\n",
       "    </tr>\n",
       "    <tr>\n",
       "      <th>2</th>\n",
       "      <td>1</td>\n",
       "      <td>1</td>\n",
       "      <td>Nantucket Nectar</td>\n",
       "      <td>[Apple]</td>\n",
       "      <td>$3.39</td>\n",
       "    </tr>\n",
       "    <tr>\n",
       "      <th>3</th>\n",
       "      <td>1</td>\n",
       "      <td>1</td>\n",
       "      <td>Chips and Tomatillo-Green Chili Salsa</td>\n",
       "      <td>NaN</td>\n",
       "      <td>$2.39</td>\n",
       "    </tr>\n",
       "    <tr>\n",
       "      <th>4</th>\n",
       "      <td>2</td>\n",
       "      <td>2</td>\n",
       "      <td>Chicken Bowl</td>\n",
       "      <td>[Tomatillo-Red Chili Salsa (Hot), [Black Beans...</td>\n",
       "      <td>$16.98</td>\n",
       "    </tr>\n",
       "  </tbody>\n",
       "</table>\n",
       "</div>"
      ],
      "text/plain": [
       "   order_id  quantity                              item_name  \\\n",
       "0         1         1           Chips and Fresh Tomato Salsa   \n",
       "1         1         1                                   Izze   \n",
       "2         1         1                       Nantucket Nectar   \n",
       "3         1         1  Chips and Tomatillo-Green Chili Salsa   \n",
       "4         2         2                           Chicken Bowl   \n",
       "\n",
       "                                  choice_description item_price  \n",
       "0                                                NaN     $2.39   \n",
       "1                                       [Clementine]     $3.39   \n",
       "2                                            [Apple]     $3.39   \n",
       "3                                                NaN     $2.39   \n",
       "4  [Tomatillo-Red Chili Salsa (Hot), [Black Beans...    $16.98   "
      ]
     },
     "execution_count": 65,
     "metadata": {},
     "output_type": "execute_result"
    }
   ],
   "source": [
    "chipo.head()"
   ]
  },
  {
   "cell_type": "markdown",
   "metadata": {},
   "source": [
    "# Nombre del producto de valor máximo"
   ]
  },
  {
   "cell_type": "code",
   "execution_count": 66,
   "metadata": {},
   "outputs": [],
   "source": [
    "chipo['item_price'] = chipo['item_price'].str.replace('$','')"
   ]
  },
  {
   "cell_type": "code",
   "execution_count": 67,
   "metadata": {},
   "outputs": [],
   "source": [
    "chipo['item_price'] = chipo['item_price'].str.strip().astype('float')"
   ]
  },
  {
   "cell_type": "code",
   "execution_count": 68,
   "metadata": {},
   "outputs": [
    {
     "data": {
      "text/html": [
       "<div>\n",
       "<style scoped>\n",
       "    .dataframe tbody tr th:only-of-type {\n",
       "        vertical-align: middle;\n",
       "    }\n",
       "\n",
       "    .dataframe tbody tr th {\n",
       "        vertical-align: top;\n",
       "    }\n",
       "\n",
       "    .dataframe thead th {\n",
       "        text-align: right;\n",
       "    }\n",
       "</style>\n",
       "<table border=\"1\" class=\"dataframe\">\n",
       "  <thead>\n",
       "    <tr style=\"text-align: right;\">\n",
       "      <th></th>\n",
       "      <th>order_id</th>\n",
       "      <th>quantity</th>\n",
       "      <th>item_name</th>\n",
       "      <th>choice_description</th>\n",
       "      <th>item_price</th>\n",
       "    </tr>\n",
       "  </thead>\n",
       "  <tbody>\n",
       "    <tr>\n",
       "      <th>606</th>\n",
       "      <td>250</td>\n",
       "      <td>1</td>\n",
       "      <td>Steak Salad Bowl</td>\n",
       "      <td>[Fresh Tomato Salsa, [Pinto Beans, Cheese, Gua...</td>\n",
       "      <td>11.89</td>\n",
       "    </tr>\n",
       "    <tr>\n",
       "      <th>1132</th>\n",
       "      <td>468</td>\n",
       "      <td>1</td>\n",
       "      <td>Carnitas Salad Bowl</td>\n",
       "      <td>[Fresh Tomato Salsa, [Rice, Black Beans, Chees...</td>\n",
       "      <td>11.89</td>\n",
       "    </tr>\n",
       "    <tr>\n",
       "      <th>1229</th>\n",
       "      <td>501</td>\n",
       "      <td>1</td>\n",
       "      <td>Barbacoa Salad Bowl</td>\n",
       "      <td>[Fresh Tomato Salsa, [Rice, Fajita Vegetables,...</td>\n",
       "      <td>11.89</td>\n",
       "    </tr>\n",
       "  </tbody>\n",
       "</table>\n",
       "</div>"
      ],
      "text/plain": [
       "      order_id  quantity            item_name  \\\n",
       "606        250         1     Steak Salad Bowl   \n",
       "1132       468         1  Carnitas Salad Bowl   \n",
       "1229       501         1  Barbacoa Salad Bowl   \n",
       "\n",
       "                                     choice_description  item_price  \n",
       "606   [Fresh Tomato Salsa, [Pinto Beans, Cheese, Gua...       11.89  \n",
       "1132  [Fresh Tomato Salsa, [Rice, Black Beans, Chees...       11.89  \n",
       "1229  [Fresh Tomato Salsa, [Rice, Fajita Vegetables,...       11.89  "
      ]
     },
     "execution_count": 68,
     "metadata": {},
     "output_type": "execute_result"
    }
   ],
   "source": [
    "unicos = chipo[(chipo['quantity']==1)]\n",
    "unicos[unicos['item_price']==unicos['item_price'].max()].drop_duplicates('item_name')"
   ]
  },
  {
   "cell_type": "code",
   "execution_count": 69,
   "metadata": {},
   "outputs": [
    {
     "data": {
      "text/plain": [
       "np.float64(44.25)"
      ]
     },
     "execution_count": 69,
     "metadata": {},
     "output_type": "execute_result"
    }
   ],
   "source": [
    "chipo['item_price'].max()"
   ]
  },
  {
   "cell_type": "markdown",
   "metadata": {},
   "source": [
    "### Paso 4. ¿Cuántos productos cuestan más de 10,00 dólares?"
   ]
  },
  {
   "cell_type": "code",
   "execution_count": 70,
   "metadata": {},
   "outputs": [],
   "source": [
    "chipo['item_price'] = chipo['item_price'].replace('[$,]', '', regex=True).astype(float)"
   ]
  },
  {
   "cell_type": "code",
   "execution_count": 71,
   "metadata": {},
   "outputs": [
    {
     "data": {
      "text/plain": [
       "np.int64(25)"
      ]
     },
     "execution_count": 71,
     "metadata": {},
     "output_type": "execute_result"
    }
   ],
   "source": [
    "chipo[(chipo['item_price'] >= 10) & (chipo['quantity'] == 1)].nunique().loc['item_name']"
   ]
  },
  {
   "cell_type": "markdown",
   "metadata": {},
   "source": [
    "### Paso 5. ¿Cuál es el precio de cada artículo?\n",
    "###### imprimir un marco de datos con sólo dos columnas nombre_artículo y precio_artículo"
   ]
  },
  {
   "cell_type": "code",
   "execution_count": 72,
   "metadata": {},
   "outputs": [
    {
     "data": {
      "text/plain": [
       "item_name\n",
       "6 Pack Soft Drink                         [6.49]\n",
       "Barbacoa Bowl                            [11.75]\n",
       "Barbacoa Burrito                          [8.99]\n",
       "Barbacoa Crispy Tacos                    [11.75]\n",
       "Barbacoa Salad Bowl                      [11.89]\n",
       "Barbacoa Soft Tacos                       [9.25]\n",
       "Bottled Water                             [1.09]\n",
       "Bowl                                       [7.4]\n",
       "Burrito                                    [7.4]\n",
       "Canned Soda                               [1.09]\n",
       "Canned Soft Drink                         [1.25]\n",
       "Carnitas Bowl                             [8.99]\n",
       "Carnitas Burrito                          [8.99]\n",
       "Carnitas Crispy Tacos                     [9.25]\n",
       "Carnitas Salad                            [8.99]\n",
       "Carnitas Salad Bowl                      [11.89]\n",
       "Carnitas Soft Tacos                       [9.25]\n",
       "Chicken Bowl                             [10.98]\n",
       "Chicken Burrito                           [8.49]\n",
       "Chicken Crispy Tacos                      [8.75]\n",
       "Chicken Salad                            [10.98]\n",
       "Chicken Salad Bowl                        [8.75]\n",
       "Chicken Soft Tacos                        [8.75]\n",
       "Chips                                     [2.15]\n",
       "Chips and Fresh Tomato Salsa              [2.39]\n",
       "Chips and Guacamole                       [4.45]\n",
       "Chips and Mild Fresh Tomato Salsa          [3.0]\n",
       "Chips and Roasted Chili Corn Salsa        [2.95]\n",
       "Chips and Roasted Chili-Corn Salsa        [2.39]\n",
       "Chips and Tomatillo Green Chili Salsa     [2.95]\n",
       "Chips and Tomatillo Red Chili Salsa       [2.95]\n",
       "Chips and Tomatillo-Green Chili Salsa     [2.39]\n",
       "Chips and Tomatillo-Red Chili Salsa       [2.39]\n",
       "Crispy Tacos                               [7.4]\n",
       "Izze                                      [3.39]\n",
       "Nantucket Nectar                          [3.39]\n",
       "Salad                                      [7.4]\n",
       "Side of Chips                             [1.69]\n",
       "Steak Bowl                                [8.99]\n",
       "Steak Burrito                            [11.75]\n",
       "Steak Crispy Tacos                        [9.25]\n",
       "Steak Salad                               [8.99]\n",
       "Steak Salad Bowl                         [11.89]\n",
       "Steak Soft Tacos                          [9.25]\n",
       "Veggie Bowl                              [11.25]\n",
       "Veggie Burrito                           [11.25]\n",
       "Veggie Crispy Tacos                       [8.49]\n",
       "Veggie Salad                              [8.49]\n",
       "Veggie Salad Bowl                        [11.25]\n",
       "Veggie Soft Tacos                        [11.25]\n",
       "Name: item_price, dtype: object"
      ]
     },
     "execution_count": 72,
     "metadata": {},
     "output_type": "execute_result"
    }
   ],
   "source": [
    "precio_ca = unicos.drop_duplicates('item_name')\n",
    "precio_ca.groupby('item_name')['item_price'].unique()"
   ]
  },
  {
   "cell_type": "code",
   "execution_count": 73,
   "metadata": {},
   "outputs": [
    {
     "data": {
      "text/plain": [
       "item_name\n",
       "6 Pack Soft Drink                                                              [6.49]\n",
       "Barbacoa Bowl                                 [11.75, 9.25, 8.99, 11.48, 8.69, 11.49]\n",
       "Barbacoa Burrito                              [8.99, 9.25, 11.75, 11.08, 8.69, 11.48]\n",
       "Barbacoa Crispy Tacos                                      [11.75, 9.25, 11.48, 8.99]\n",
       "Barbacoa Salad Bowl                                                     [11.89, 9.39]\n",
       "Barbacoa Soft Tacos                                        [9.25, 8.99, 11.75, 11.48]\n",
       "Bottled Water                                                             [1.09, 1.5]\n",
       "Bowl                                                                            [7.4]\n",
       "Burrito                                                                         [7.4]\n",
       "Canned Soda                                                                    [1.09]\n",
       "Canned Soft Drink                                                              [1.25]\n",
       "Carnitas Bowl                                       [8.99, 11.75, 9.25, 11.48, 11.08]\n",
       "Carnitas Burrito                              [8.99, 9.25, 11.75, 11.48, 11.08, 8.69]\n",
       "Carnitas Crispy Tacos                                             [9.25, 11.75, 8.99]\n",
       "Carnitas Salad                                                                 [8.99]\n",
       "Carnitas Salad Bowl                                                     [11.89, 9.39]\n",
       "Carnitas Soft Tacos                                               [9.25, 8.99, 11.75]\n",
       "Chicken Bowl                             [10.98, 11.25, 8.75, 8.49, 8.19, 10.58, 8.5]\n",
       "Chicken Burrito                               [8.49, 10.98, 8.75, 11.25, 10.58, 8.19]\n",
       "Chicken Crispy Tacos                                       [8.75, 11.25, 8.49, 10.98]\n",
       "Chicken Salad                                                     [10.98, 8.49, 8.19]\n",
       "Chicken Salad Bowl                                                      [8.75, 11.25]\n",
       "Chicken Soft Tacos                                         [8.75, 11.25, 8.49, 10.98]\n",
       "Chips                                                                    [2.15, 1.99]\n",
       "Chips and Fresh Tomato Salsa                                       [2.39, 2.95, 2.29]\n",
       "Chips and Guacamole                                           [4.45, 3.99, 4.0, 3.89]\n",
       "Chips and Mild Fresh Tomato Salsa                                               [3.0]\n",
       "Chips and Roasted Chili Corn Salsa                                             [2.95]\n",
       "Chips and Roasted Chili-Corn Salsa                                             [2.39]\n",
       "Chips and Tomatillo Green Chili Salsa                                          [2.95]\n",
       "Chips and Tomatillo Red Chili Salsa                                            [2.95]\n",
       "Chips and Tomatillo-Green Chili Salsa                                          [2.39]\n",
       "Chips and Tomatillo-Red Chili Salsa                                            [2.39]\n",
       "Crispy Tacos                                                                    [7.4]\n",
       "Izze                                                                           [3.39]\n",
       "Nantucket Nectar                                                               [3.39]\n",
       "Salad                                                                           [7.4]\n",
       "Side of Chips                                                                  [1.69]\n",
       "Steak Bowl                                    [8.99, 11.75, 11.48, 9.25, 11.08, 8.69]\n",
       "Steak Burrito                                 [11.75, 9.25, 8.99, 11.48, 11.08, 8.69]\n",
       "Steak Crispy Tacos                                          [9.25, 8.99, 8.69, 11.75]\n",
       "Steak Salad                                                              [8.99, 8.69]\n",
       "Steak Salad Bowl                                                        [11.89, 9.39]\n",
       "Steak Soft Tacos                                           [9.25, 8.99, 11.75, 11.48]\n",
       "Veggie Bowl                                                [11.25, 8.49, 8.75, 10.98]\n",
       "Veggie Burrito                                             [11.25, 8.49, 10.98, 8.75]\n",
       "Veggie Crispy Tacos                                                            [8.49]\n",
       "Veggie Salad                                                                   [8.49]\n",
       "Veggie Salad Bowl                                                       [11.25, 8.75]\n",
       "Veggie Soft Tacos                                                 [11.25, 8.75, 8.49]\n",
       "Name: item_price, dtype: object"
      ]
     },
     "execution_count": 73,
     "metadata": {},
     "output_type": "execute_result"
    }
   ],
   "source": [
    "unicos.groupby('item_name')['item_price'].unique()"
   ]
  },
  {
   "cell_type": "markdown",
   "metadata": {},
   "source": [
    "### Paso 7. ¿Cuál fue la cantidad pedida del artículo más caro? 2 formas"
   ]
  },
  {
   "cell_type": "code",
   "execution_count": 75,
   "metadata": {},
   "outputs": [
    {
     "data": {
      "text/plain": [
       "6"
      ]
     },
     "execution_count": 75,
     "metadata": {},
     "output_type": "execute_result"
    }
   ],
   "source": [
    "chipo[chipo['item_name'] == 'Carnitas Salad Bowl'].shape[0]"
   ]
  },
  {
   "cell_type": "code",
   "execution_count": 76,
   "metadata": {},
   "outputs": [
    {
     "data": {
      "text/plain": [
       "6"
      ]
     },
     "execution_count": 76,
     "metadata": {},
     "output_type": "execute_result"
    }
   ],
   "source": [
    "len(chipo[chipo['item_name'] =='Carnitas Salad Bowl'])"
   ]
  },
  {
   "cell_type": "markdown",
   "metadata": {},
   "source": [
    "### Paso 8. ¿Cuántas veces pidió ensalada de verduras?"
   ]
  },
  {
   "cell_type": "code",
   "execution_count": 17,
   "metadata": {},
   "outputs": [
    {
     "data": {
      "text/plain": [
       "6"
      ]
     },
     "execution_count": 17,
     "metadata": {},
     "output_type": "execute_result"
    }
   ],
   "source": [
    "len(chipo[chipo['item_name'] == 'Veggie Salad'])"
   ]
  },
  {
   "cell_type": "markdown",
   "metadata": {},
   "source": [
    "### Paso 9. ¿Cuántas veces pidió alguien más de un refresco en lata?"
   ]
  },
  {
   "cell_type": "code",
   "execution_count": 77,
   "metadata": {},
   "outputs": [
    {
     "data": {
      "text/plain": [
       "20"
      ]
     },
     "execution_count": 77,
     "metadata": {},
     "output_type": "execute_result"
    }
   ],
   "source": [
    "len(chipo[(chipo['item_name'].str.contains('[Ss]oda'))\n",
    "        & ( chipo['quantity'] > 1)])"
   ]
  }
 ],
 "metadata": {
  "anaconda-cloud": {},
  "kernelspec": {
   "display_name": "bootcamp-ds-Zopo5587-py3.12",
   "language": "python",
   "name": "python3"
  },
  "language_info": {
   "codemirror_mode": {
    "name": "ipython",
    "version": 3
   },
   "file_extension": ".py",
   "mimetype": "text/x-python",
   "name": "python",
   "nbconvert_exporter": "python",
   "pygments_lexer": "ipython3",
   "version": "3.12.6"
  }
 },
 "nbformat": 4,
 "nbformat_minor": 4
}
