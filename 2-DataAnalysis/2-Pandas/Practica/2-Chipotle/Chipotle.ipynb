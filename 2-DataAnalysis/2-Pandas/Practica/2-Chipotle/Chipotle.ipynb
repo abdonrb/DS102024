{
 "cells": [
  {
   "cell_type": "markdown",
   "metadata": {},
   "source": [
    "# Ex1 - Filtrar y ordenar datos"
   ]
  },
  {
   "cell_type": "markdown",
   "metadata": {},
   "source": [
    "### Paso 1. Importar las bibliotecas necesarias"
   ]
  },
  {
   "cell_type": "code",
   "execution_count": 30,
   "metadata": {},
   "outputs": [],
   "source": [
    "import numpy as np\n",
    "import pandas as pd"
   ]
  },
  {
   "cell_type": "markdown",
   "metadata": {},
   "source": [
    "### Paso 2. Importar el conjunto de datos de esta [dirección](https://raw.githubusercontent.com/justmarkham/DAT8/master/data/chipotle.tsv). "
   ]
  },
  {
   "cell_type": "code",
   "execution_count": 31,
   "metadata": {},
   "outputs": [],
   "source": [
    "url = 'https://raw.githubusercontent.com/justmarkham/DAT8/master/data/chipotle.tsv'"
   ]
  },
  {
   "cell_type": "markdown",
   "metadata": {},
   "source": [
    "### Paso 3. Asígnalo a una variable llamada chipo."
   ]
  },
  {
   "cell_type": "code",
   "execution_count": 32,
   "metadata": {},
   "outputs": [],
   "source": [
    "chipo = pd.read_csv(url, sep='\\t')"
   ]
  },
  {
   "cell_type": "code",
   "execution_count": 33,
   "metadata": {},
   "outputs": [],
   "source": [
    "# chipo_copia = chipo.copy()"
   ]
  },
  {
   "cell_type": "code",
   "execution_count": 34,
   "metadata": {},
   "outputs": [
    {
     "data": {
      "text/html": [
       "<div>\n",
       "<style scoped>\n",
       "    .dataframe tbody tr th:only-of-type {\n",
       "        vertical-align: middle;\n",
       "    }\n",
       "\n",
       "    .dataframe tbody tr th {\n",
       "        vertical-align: top;\n",
       "    }\n",
       "\n",
       "    .dataframe thead th {\n",
       "        text-align: right;\n",
       "    }\n",
       "</style>\n",
       "<table border=\"1\" class=\"dataframe\">\n",
       "  <thead>\n",
       "    <tr style=\"text-align: right;\">\n",
       "      <th></th>\n",
       "      <th>order_id</th>\n",
       "      <th>quantity</th>\n",
       "      <th>item_name</th>\n",
       "      <th>choice_description</th>\n",
       "      <th>item_price</th>\n",
       "    </tr>\n",
       "  </thead>\n",
       "  <tbody>\n",
       "    <tr>\n",
       "      <th>0</th>\n",
       "      <td>1</td>\n",
       "      <td>1</td>\n",
       "      <td>Chips and Fresh Tomato Salsa</td>\n",
       "      <td>NaN</td>\n",
       "      <td>$2.39</td>\n",
       "    </tr>\n",
       "    <tr>\n",
       "      <th>1</th>\n",
       "      <td>1</td>\n",
       "      <td>1</td>\n",
       "      <td>Izze</td>\n",
       "      <td>[Clementine]</td>\n",
       "      <td>$3.39</td>\n",
       "    </tr>\n",
       "    <tr>\n",
       "      <th>2</th>\n",
       "      <td>1</td>\n",
       "      <td>1</td>\n",
       "      <td>Nantucket Nectar</td>\n",
       "      <td>[Apple]</td>\n",
       "      <td>$3.39</td>\n",
       "    </tr>\n",
       "    <tr>\n",
       "      <th>3</th>\n",
       "      <td>1</td>\n",
       "      <td>1</td>\n",
       "      <td>Chips and Tomatillo-Green Chili Salsa</td>\n",
       "      <td>NaN</td>\n",
       "      <td>$2.39</td>\n",
       "    </tr>\n",
       "    <tr>\n",
       "      <th>4</th>\n",
       "      <td>2</td>\n",
       "      <td>2</td>\n",
       "      <td>Chicken Bowl</td>\n",
       "      <td>[Tomatillo-Red Chili Salsa (Hot), [Black Beans...</td>\n",
       "      <td>$16.98</td>\n",
       "    </tr>\n",
       "  </tbody>\n",
       "</table>\n",
       "</div>"
      ],
      "text/plain": [
       "   order_id  quantity                              item_name  \\\n",
       "0         1         1           Chips and Fresh Tomato Salsa   \n",
       "1         1         1                                   Izze   \n",
       "2         1         1                       Nantucket Nectar   \n",
       "3         1         1  Chips and Tomatillo-Green Chili Salsa   \n",
       "4         2         2                           Chicken Bowl   \n",
       "\n",
       "                                  choice_description item_price  \n",
       "0                                                NaN     $2.39   \n",
       "1                                       [Clementine]     $3.39   \n",
       "2                                            [Apple]     $3.39   \n",
       "3                                                NaN     $2.39   \n",
       "4  [Tomatillo-Red Chili Salsa (Hot), [Black Beans...    $16.98   "
      ]
     },
     "execution_count": 34,
     "metadata": {},
     "output_type": "execute_result"
    }
   ],
   "source": [
    "chipo.head()"
   ]
  },
  {
   "cell_type": "markdown",
   "metadata": {},
   "source": [
    "# Nombre del producto de valor máximo"
   ]
  },
  {
   "cell_type": "code",
   "execution_count": 40,
   "metadata": {},
   "outputs": [],
   "source": [
    "precios_unicos = chipo[chipo['quantity'] == 1]"
   ]
  },
  {
   "cell_type": "code",
   "execution_count": 36,
   "metadata": {},
   "outputs": [
    {
     "name": "stdout",
     "output_type": "stream",
     "text": [
      "9.39 \n",
      "Steak Salad Bowl\n"
     ]
    }
   ],
   "source": [
    "precios_unicos.loc[:,'item_price'] = precios_unicos.loc[:,'item_price'].replace('[$,]', '', regex=True)\n",
    "valor_max = precios_unicos['item_price'].max()\n",
    "item_max_valor = precios_unicos[precios_unicos['item_price'] == valor_max]['item_name'].iloc[0]\n",
    "print(valor_max)\n",
    "print(item_max_valor)"
   ]
  },
  {
   "cell_type": "markdown",
   "metadata": {},
   "source": [
    "### Paso 4. ¿Cuántos productos cuestan más de 10,00 dólares?"
   ]
  },
  {
   "cell_type": "code",
   "execution_count": 37,
   "metadata": {},
   "outputs": [],
   "source": [
    "chipo['item_price'] = chipo['item_price'].replace('[$,]', '', regex=True).astype(float)"
   ]
  },
  {
   "cell_type": "code",
   "execution_count": 38,
   "metadata": {},
   "outputs": [
    {
     "data": {
      "text/plain": [
       "997"
      ]
     },
     "execution_count": 38,
     "metadata": {},
     "output_type": "execute_result"
    }
   ],
   "source": [
    "len(chipo[(chipo['item_price'] >= 10) & (chipo['quantity'] == 1)])"
   ]
  },
  {
   "cell_type": "markdown",
   "metadata": {},
   "source": [
    "### Paso 5. ¿Cuál es el precio de cada artículo?\n",
    "###### imprimir un marco de datos con sólo dos columnas nombre_artículo y precio_artículo"
   ]
  },
  {
   "cell_type": "code",
   "execution_count": 45,
   "metadata": {},
   "outputs": [
    {
     "data": {
      "text/plain": [
       "item_price\n",
       "1.09                          [Canned Soda, Bottled Water]\n",
       "1.25                                   [Canned Soft Drink]\n",
       "1.50                                       [Bottled Water]\n",
       "1.69                                       [Side of Chips]\n",
       "1.99                                               [Chips]\n",
       "2.15                                               [Chips]\n",
       "2.29                        [Chips and Fresh Tomato Salsa]\n",
       "2.39     [Chips and Fresh Tomato Salsa, Chips and Tomat...\n",
       "2.95     [Chips and Tomatillo Green Chili Salsa, Chips ...\n",
       "3.00                   [Chips and Mild Fresh Tomato Salsa]\n",
       "3.39                              [Izze, Nantucket Nectar]\n",
       "3.89                                 [Chips and Guacamole]\n",
       "3.99                                 [Chips and Guacamole]\n",
       "4.00                                 [Chips and Guacamole]\n",
       "4.45                                 [Chips and Guacamole]\n",
       "6.49                                   [6 Pack Soft Drink]\n",
       "7.40                  [Burrito, Crispy Tacos, Bowl, Salad]\n",
       "8.19        [Chicken Burrito, Chicken Bowl, Chicken Salad]\n",
       "8.49     [Chicken Burrito, Chicken Bowl, Veggie Bowl, V...\n",
       "8.50                                        [Chicken Bowl]\n",
       "8.69     [Steak Burrito, Steak Crispy Tacos, Steak Bowl...\n",
       "8.75     [Chicken Crispy Tacos, Chicken Soft Tacos, Chi...\n",
       "8.99     [Barbacoa Burrito, Carnitas Burrito, Steak Bur...\n",
       "9.25     [Steak Soft Tacos, Steak Burrito, Barbacoa Sof...\n",
       "9.39     [Steak Salad Bowl, Barbacoa Salad Bowl, Carnit...\n",
       "10.58                      [Chicken Burrito, Chicken Bowl]\n",
       "10.98    [Chicken Bowl, Chicken Burrito, Chicken Salad,...\n",
       "11.08    [Steak Burrito, Carnitas Bowl, Steak Bowl, Bar...\n",
       "11.25    [Chicken Bowl, Veggie Burrito, Veggie Bowl, Ch...\n",
       "11.48    [Steak Burrito, Carnitas Bowl, Steak Bowl, Bar...\n",
       "11.49                                      [Barbacoa Bowl]\n",
       "11.75    [Steak Burrito, Barbacoa Bowl, Steak Bowl, Car...\n",
       "11.89    [Steak Salad Bowl, Carnitas Salad Bowl, Barbac...\n",
       "Name: item_name, dtype: object"
      ]
     },
     "execution_count": 45,
     "metadata": {},
     "output_type": "execute_result"
    }
   ],
   "source": [
    "precios_unicos.groupby('item_price')['item_name'].unique()"
   ]
  },
  {
   "cell_type": "code",
   "execution_count": 46,
   "metadata": {},
   "outputs": [
    {
     "data": {
      "text/plain": [
       "item_name\n",
       "6 Pack Soft Drink                                                              [6.49]\n",
       "Barbacoa Bowl                                 [11.75, 9.25, 8.99, 11.48, 8.69, 11.49]\n",
       "Barbacoa Burrito                              [8.99, 9.25, 11.75, 11.08, 8.69, 11.48]\n",
       "Barbacoa Crispy Tacos                                      [11.75, 9.25, 11.48, 8.99]\n",
       "Barbacoa Salad Bowl                                                     [11.89, 9.39]\n",
       "Barbacoa Soft Tacos                                        [9.25, 8.99, 11.75, 11.48]\n",
       "Bottled Water                                                             [1.09, 1.5]\n",
       "Bowl                                                                            [7.4]\n",
       "Burrito                                                                         [7.4]\n",
       "Canned Soda                                                                    [1.09]\n",
       "Canned Soft Drink                                                              [1.25]\n",
       "Carnitas Bowl                                       [8.99, 11.75, 9.25, 11.48, 11.08]\n",
       "Carnitas Burrito                              [8.99, 9.25, 11.75, 11.48, 11.08, 8.69]\n",
       "Carnitas Crispy Tacos                                             [9.25, 11.75, 8.99]\n",
       "Carnitas Salad                                                                 [8.99]\n",
       "Carnitas Salad Bowl                                                     [11.89, 9.39]\n",
       "Carnitas Soft Tacos                                               [9.25, 8.99, 11.75]\n",
       "Chicken Bowl                             [10.98, 11.25, 8.75, 8.49, 8.19, 10.58, 8.5]\n",
       "Chicken Burrito                               [8.49, 10.98, 8.75, 11.25, 10.58, 8.19]\n",
       "Chicken Crispy Tacos                                       [8.75, 11.25, 8.49, 10.98]\n",
       "Chicken Salad                                                     [10.98, 8.49, 8.19]\n",
       "Chicken Salad Bowl                                                      [8.75, 11.25]\n",
       "Chicken Soft Tacos                                         [8.75, 11.25, 8.49, 10.98]\n",
       "Chips                                                                    [2.15, 1.99]\n",
       "Chips and Fresh Tomato Salsa                                       [2.39, 2.95, 2.29]\n",
       "Chips and Guacamole                                           [4.45, 3.99, 4.0, 3.89]\n",
       "Chips and Mild Fresh Tomato Salsa                                               [3.0]\n",
       "Chips and Roasted Chili Corn Salsa                                             [2.95]\n",
       "Chips and Roasted Chili-Corn Salsa                                             [2.39]\n",
       "Chips and Tomatillo Green Chili Salsa                                          [2.95]\n",
       "Chips and Tomatillo Red Chili Salsa                                            [2.95]\n",
       "Chips and Tomatillo-Green Chili Salsa                                          [2.39]\n",
       "Chips and Tomatillo-Red Chili Salsa                                            [2.39]\n",
       "Crispy Tacos                                                                    [7.4]\n",
       "Izze                                                                           [3.39]\n",
       "Nantucket Nectar                                                               [3.39]\n",
       "Salad                                                                           [7.4]\n",
       "Side of Chips                                                                  [1.69]\n",
       "Steak Bowl                                    [8.99, 11.75, 11.48, 9.25, 11.08, 8.69]\n",
       "Steak Burrito                                 [11.75, 9.25, 8.99, 11.48, 11.08, 8.69]\n",
       "Steak Crispy Tacos                                          [9.25, 8.99, 8.69, 11.75]\n",
       "Steak Salad                                                              [8.99, 8.69]\n",
       "Steak Salad Bowl                                                        [11.89, 9.39]\n",
       "Steak Soft Tacos                                           [9.25, 8.99, 11.75, 11.48]\n",
       "Veggie Bowl                                                [11.25, 8.49, 8.75, 10.98]\n",
       "Veggie Burrito                                             [11.25, 8.49, 10.98, 8.75]\n",
       "Veggie Crispy Tacos                                                            [8.49]\n",
       "Veggie Salad                                                                   [8.49]\n",
       "Veggie Salad Bowl                                                       [11.25, 8.75]\n",
       "Veggie Soft Tacos                                                 [11.25, 8.75, 8.49]\n",
       "Name: item_price, dtype: object"
      ]
     },
     "execution_count": 46,
     "metadata": {},
     "output_type": "execute_result"
    }
   ],
   "source": [
    "precios_unicos.groupby('item_name')['item_price'].unique()"
   ]
  },
  {
   "cell_type": "code",
   "execution_count": 48,
   "metadata": {},
   "outputs": [
    {
     "data": {
      "text/html": [
       "<div>\n",
       "<style scoped>\n",
       "    .dataframe tbody tr th:only-of-type {\n",
       "        vertical-align: middle;\n",
       "    }\n",
       "\n",
       "    .dataframe tbody tr th {\n",
       "        vertical-align: top;\n",
       "    }\n",
       "\n",
       "    .dataframe thead th {\n",
       "        text-align: right;\n",
       "    }\n",
       "</style>\n",
       "<table border=\"1\" class=\"dataframe\">\n",
       "  <thead>\n",
       "    <tr style=\"text-align: right;\">\n",
       "      <th></th>\n",
       "      <th>order_id</th>\n",
       "      <th>quantity</th>\n",
       "      <th>item_name</th>\n",
       "      <th>choice_description</th>\n",
       "      <th>item_price</th>\n",
       "    </tr>\n",
       "  </thead>\n",
       "  <tbody>\n",
       "    <tr>\n",
       "      <th>56</th>\n",
       "      <td>26</td>\n",
       "      <td>1</td>\n",
       "      <td>Barbacoa Soft Tacos</td>\n",
       "      <td>[Fresh Tomato Salsa, [Fajita Vegetables, Black...</td>\n",
       "      <td>9.25</td>\n",
       "    </tr>\n",
       "    <tr>\n",
       "      <th>181</th>\n",
       "      <td>82</td>\n",
       "      <td>1</td>\n",
       "      <td>Barbacoa Soft Tacos</td>\n",
       "      <td>[Tomatillo Red Chili Salsa, [Rice, Pinto Beans...</td>\n",
       "      <td>9.25</td>\n",
       "    </tr>\n",
       "    <tr>\n",
       "      <th>268</th>\n",
       "      <td>117</td>\n",
       "      <td>1</td>\n",
       "      <td>Barbacoa Soft Tacos</td>\n",
       "      <td>[Tomatillo-Red Chili Salsa (Hot), [Pinto Beans...</td>\n",
       "      <td>8.99</td>\n",
       "    </tr>\n",
       "    <tr>\n",
       "      <th>611</th>\n",
       "      <td>252</td>\n",
       "      <td>1</td>\n",
       "      <td>Barbacoa Soft Tacos</td>\n",
       "      <td>[Tomatillo Red Chili Salsa, [Rice, Pinto Beans...</td>\n",
       "      <td>9.25</td>\n",
       "    </tr>\n",
       "    <tr>\n",
       "      <th>857</th>\n",
       "      <td>353</td>\n",
       "      <td>1</td>\n",
       "      <td>Barbacoa Soft Tacos</td>\n",
       "      <td>[Tomatillo Red Chili Salsa, [Rice, Pinto Beans...</td>\n",
       "      <td>9.25</td>\n",
       "    </tr>\n",
       "    <tr>\n",
       "      <th>988</th>\n",
       "      <td>406</td>\n",
       "      <td>1</td>\n",
       "      <td>Barbacoa Soft Tacos</td>\n",
       "      <td>[Tomatillo Red Chili Salsa, [Black Beans, Chee...</td>\n",
       "      <td>11.75</td>\n",
       "    </tr>\n",
       "    <tr>\n",
       "      <th>1129</th>\n",
       "      <td>467</td>\n",
       "      <td>1</td>\n",
       "      <td>Barbacoa Soft Tacos</td>\n",
       "      <td>[Roasted Chili Corn Salsa, [Rice, Pinto Beans,...</td>\n",
       "      <td>11.75</td>\n",
       "    </tr>\n",
       "    <tr>\n",
       "      <th>1149</th>\n",
       "      <td>475</td>\n",
       "      <td>1</td>\n",
       "      <td>Barbacoa Soft Tacos</td>\n",
       "      <td>[Tomatillo Green Chili Salsa, [Sour Cream, Che...</td>\n",
       "      <td>9.25</td>\n",
       "    </tr>\n",
       "    <tr>\n",
       "      <th>1240</th>\n",
       "      <td>506</td>\n",
       "      <td>1</td>\n",
       "      <td>Barbacoa Soft Tacos</td>\n",
       "      <td>[Tomatillo Red Chili Salsa, [Rice, Pinto Beans...</td>\n",
       "      <td>9.25</td>\n",
       "    </tr>\n",
       "    <tr>\n",
       "      <th>1334</th>\n",
       "      <td>545</td>\n",
       "      <td>1</td>\n",
       "      <td>Barbacoa Soft Tacos</td>\n",
       "      <td>[Roasted Chili Corn Salsa, [Rice, Cheese, Sour...</td>\n",
       "      <td>11.75</td>\n",
       "    </tr>\n",
       "    <tr>\n",
       "      <th>1391</th>\n",
       "      <td>565</td>\n",
       "      <td>1</td>\n",
       "      <td>Barbacoa Soft Tacos</td>\n",
       "      <td>[Tomatillo Red Chili Salsa, [Rice, Cheese, Sou...</td>\n",
       "      <td>9.25</td>\n",
       "    </tr>\n",
       "    <tr>\n",
       "      <th>1642</th>\n",
       "      <td>663</td>\n",
       "      <td>1</td>\n",
       "      <td>Barbacoa Soft Tacos</td>\n",
       "      <td>[[Fresh Tomato Salsa (Mild), Roasted Chili Cor...</td>\n",
       "      <td>8.99</td>\n",
       "    </tr>\n",
       "    <tr>\n",
       "      <th>1669</th>\n",
       "      <td>675</td>\n",
       "      <td>1</td>\n",
       "      <td>Barbacoa Soft Tacos</td>\n",
       "      <td>[Tomatillo Red Chili Salsa, [Rice, Cheese, Sou...</td>\n",
       "      <td>9.25</td>\n",
       "    </tr>\n",
       "    <tr>\n",
       "      <th>1754</th>\n",
       "      <td>708</td>\n",
       "      <td>1</td>\n",
       "      <td>Barbacoa Soft Tacos</td>\n",
       "      <td>[Tomatillo Green Chili Salsa, [Pinto Beans, So...</td>\n",
       "      <td>11.75</td>\n",
       "    </tr>\n",
       "    <tr>\n",
       "      <th>1985</th>\n",
       "      <td>803</td>\n",
       "      <td>1</td>\n",
       "      <td>Barbacoa Soft Tacos</td>\n",
       "      <td>[Fresh Tomato Salsa, [Black Beans, Cheese, Let...</td>\n",
       "      <td>9.25</td>\n",
       "    </tr>\n",
       "    <tr>\n",
       "      <th>2083</th>\n",
       "      <td>841</td>\n",
       "      <td>1</td>\n",
       "      <td>Barbacoa Soft Tacos</td>\n",
       "      <td>[Fresh Tomato Salsa, [Rice, Black Beans, Pinto...</td>\n",
       "      <td>9.25</td>\n",
       "    </tr>\n",
       "    <tr>\n",
       "      <th>2248</th>\n",
       "      <td>906</td>\n",
       "      <td>1</td>\n",
       "      <td>Barbacoa Soft Tacos</td>\n",
       "      <td>[Tomatillo Red Chili Salsa, [Rice, Cheese, Sou...</td>\n",
       "      <td>9.25</td>\n",
       "    </tr>\n",
       "    <tr>\n",
       "      <th>2259</th>\n",
       "      <td>910</td>\n",
       "      <td>1</td>\n",
       "      <td>Barbacoa Soft Tacos</td>\n",
       "      <td>[Tomatillo Red Chili Salsa, [Rice, Pinto Beans...</td>\n",
       "      <td>9.25</td>\n",
       "    </tr>\n",
       "    <tr>\n",
       "      <th>2434</th>\n",
       "      <td>966</td>\n",
       "      <td>1</td>\n",
       "      <td>Barbacoa Soft Tacos</td>\n",
       "      <td>[Roasted Chili Corn Salsa, [Cheese, Sour Cream...</td>\n",
       "      <td>11.75</td>\n",
       "    </tr>\n",
       "    <tr>\n",
       "      <th>2780</th>\n",
       "      <td>1103</td>\n",
       "      <td>1</td>\n",
       "      <td>Barbacoa Soft Tacos</td>\n",
       "      <td>[Tomatillo Red Chili Salsa, [Rice, Pinto Beans...</td>\n",
       "      <td>9.25</td>\n",
       "    </tr>\n",
       "    <tr>\n",
       "      <th>3184</th>\n",
       "      <td>1273</td>\n",
       "      <td>1</td>\n",
       "      <td>Barbacoa Soft Tacos</td>\n",
       "      <td>[Tomatillo-Red Chili Salsa (Hot), [Rice, Chees...</td>\n",
       "      <td>11.48</td>\n",
       "    </tr>\n",
       "    <tr>\n",
       "      <th>3211</th>\n",
       "      <td>1284</td>\n",
       "      <td>1</td>\n",
       "      <td>Barbacoa Soft Tacos</td>\n",
       "      <td>[Roasted Chili Corn Salsa, [Rice, Black Beans,...</td>\n",
       "      <td>11.75</td>\n",
       "    </tr>\n",
       "    <tr>\n",
       "      <th>3548</th>\n",
       "      <td>1426</td>\n",
       "      <td>1</td>\n",
       "      <td>Barbacoa Soft Tacos</td>\n",
       "      <td>[Tomatillo Red Chili Salsa, [Fajita Vegetables...</td>\n",
       "      <td>11.75</td>\n",
       "    </tr>\n",
       "    <tr>\n",
       "      <th>4182</th>\n",
       "      <td>1670</td>\n",
       "      <td>1</td>\n",
       "      <td>Barbacoa Soft Tacos</td>\n",
       "      <td>[Tomatillo Red Chili Salsa, [Rice, Cheese, Sou...</td>\n",
       "      <td>9.25</td>\n",
       "    </tr>\n",
       "    <tr>\n",
       "      <th>4271</th>\n",
       "      <td>1703</td>\n",
       "      <td>1</td>\n",
       "      <td>Barbacoa Soft Tacos</td>\n",
       "      <td>[Roasted Chili Corn Salsa, [Fajita Vegetables,...</td>\n",
       "      <td>9.25</td>\n",
       "    </tr>\n",
       "  </tbody>\n",
       "</table>\n",
       "</div>"
      ],
      "text/plain": [
       "      order_id  quantity            item_name  \\\n",
       "56          26         1  Barbacoa Soft Tacos   \n",
       "181         82         1  Barbacoa Soft Tacos   \n",
       "268        117         1  Barbacoa Soft Tacos   \n",
       "611        252         1  Barbacoa Soft Tacos   \n",
       "857        353         1  Barbacoa Soft Tacos   \n",
       "988        406         1  Barbacoa Soft Tacos   \n",
       "1129       467         1  Barbacoa Soft Tacos   \n",
       "1149       475         1  Barbacoa Soft Tacos   \n",
       "1240       506         1  Barbacoa Soft Tacos   \n",
       "1334       545         1  Barbacoa Soft Tacos   \n",
       "1391       565         1  Barbacoa Soft Tacos   \n",
       "1642       663         1  Barbacoa Soft Tacos   \n",
       "1669       675         1  Barbacoa Soft Tacos   \n",
       "1754       708         1  Barbacoa Soft Tacos   \n",
       "1985       803         1  Barbacoa Soft Tacos   \n",
       "2083       841         1  Barbacoa Soft Tacos   \n",
       "2248       906         1  Barbacoa Soft Tacos   \n",
       "2259       910         1  Barbacoa Soft Tacos   \n",
       "2434       966         1  Barbacoa Soft Tacos   \n",
       "2780      1103         1  Barbacoa Soft Tacos   \n",
       "3184      1273         1  Barbacoa Soft Tacos   \n",
       "3211      1284         1  Barbacoa Soft Tacos   \n",
       "3548      1426         1  Barbacoa Soft Tacos   \n",
       "4182      1670         1  Barbacoa Soft Tacos   \n",
       "4271      1703         1  Barbacoa Soft Tacos   \n",
       "\n",
       "                                     choice_description  item_price  \n",
       "56    [Fresh Tomato Salsa, [Fajita Vegetables, Black...        9.25  \n",
       "181   [Tomatillo Red Chili Salsa, [Rice, Pinto Beans...        9.25  \n",
       "268   [Tomatillo-Red Chili Salsa (Hot), [Pinto Beans...        8.99  \n",
       "611   [Tomatillo Red Chili Salsa, [Rice, Pinto Beans...        9.25  \n",
       "857   [Tomatillo Red Chili Salsa, [Rice, Pinto Beans...        9.25  \n",
       "988   [Tomatillo Red Chili Salsa, [Black Beans, Chee...       11.75  \n",
       "1129  [Roasted Chili Corn Salsa, [Rice, Pinto Beans,...       11.75  \n",
       "1149  [Tomatillo Green Chili Salsa, [Sour Cream, Che...        9.25  \n",
       "1240  [Tomatillo Red Chili Salsa, [Rice, Pinto Beans...        9.25  \n",
       "1334  [Roasted Chili Corn Salsa, [Rice, Cheese, Sour...       11.75  \n",
       "1391  [Tomatillo Red Chili Salsa, [Rice, Cheese, Sou...        9.25  \n",
       "1642  [[Fresh Tomato Salsa (Mild), Roasted Chili Cor...        8.99  \n",
       "1669  [Tomatillo Red Chili Salsa, [Rice, Cheese, Sou...        9.25  \n",
       "1754  [Tomatillo Green Chili Salsa, [Pinto Beans, So...       11.75  \n",
       "1985  [Fresh Tomato Salsa, [Black Beans, Cheese, Let...        9.25  \n",
       "2083  [Fresh Tomato Salsa, [Rice, Black Beans, Pinto...        9.25  \n",
       "2248  [Tomatillo Red Chili Salsa, [Rice, Cheese, Sou...        9.25  \n",
       "2259  [Tomatillo Red Chili Salsa, [Rice, Pinto Beans...        9.25  \n",
       "2434  [Roasted Chili Corn Salsa, [Cheese, Sour Cream...       11.75  \n",
       "2780  [Tomatillo Red Chili Salsa, [Rice, Pinto Beans...        9.25  \n",
       "3184  [Tomatillo-Red Chili Salsa (Hot), [Rice, Chees...       11.48  \n",
       "3211  [Roasted Chili Corn Salsa, [Rice, Black Beans,...       11.75  \n",
       "3548  [Tomatillo Red Chili Salsa, [Fajita Vegetables...       11.75  \n",
       "4182  [Tomatillo Red Chili Salsa, [Rice, Cheese, Sou...        9.25  \n",
       "4271  [Roasted Chili Corn Salsa, [Fajita Vegetables,...        9.25  "
      ]
     },
     "execution_count": 48,
     "metadata": {},
     "output_type": "execute_result"
    }
   ],
   "source": [
    "chipo[chipo['item_name'] == 'Barbacoa Soft Tacos']"
   ]
  },
  {
   "cell_type": "markdown",
   "metadata": {},
   "source": [
    "### Paso 6. Ordenar por el nombre del artículo"
   ]
  },
  {
   "cell_type": "code",
   "execution_count": null,
   "metadata": {},
   "outputs": [
    {
     "data": {
      "text/plain": [
       "3389    6 Pack Soft Drink\n",
       "341     6 Pack Soft Drink\n",
       "1849    6 Pack Soft Drink\n",
       "1860    6 Pack Soft Drink\n",
       "2713    6 Pack Soft Drink\n",
       "              ...        \n",
       "2384    Veggie Soft Tacos\n",
       "781     Veggie Soft Tacos\n",
       "2851    Veggie Soft Tacos\n",
       "1699    Veggie Soft Tacos\n",
       "1395    Veggie Soft Tacos\n",
       "Name: item_name, Length: 4622, dtype: object"
      ]
     },
     "execution_count": 67,
     "metadata": {},
     "output_type": "execute_result"
    }
   ],
   "source": [
    "chipo['item_name'].sort_values()"
   ]
  },
  {
   "cell_type": "markdown",
   "metadata": {},
   "source": [
    "### Paso 7. ¿Cuál fue la cantidad pedida del artículo más caro? 2 formas"
   ]
  },
  {
   "cell_type": "code",
   "execution_count": 46,
   "metadata": {},
   "outputs": [
    {
     "data": {
      "text/plain": [
       "29"
      ]
     },
     "execution_count": 46,
     "metadata": {},
     "output_type": "execute_result"
    }
   ],
   "source": [
    "chipo[chipo['item_name'] == item_max_valor].shape[0]"
   ]
  },
  {
   "cell_type": "code",
   "execution_count": 47,
   "metadata": {},
   "outputs": [
    {
     "data": {
      "text/plain": [
       "29"
      ]
     },
     "execution_count": 47,
     "metadata": {},
     "output_type": "execute_result"
    }
   ],
   "source": [
    "len(chipo[chipo['item_name'] == item_max_valor])"
   ]
  },
  {
   "cell_type": "markdown",
   "metadata": {},
   "source": [
    "### Paso 8. ¿Cuántas veces pidió ensalada de verduras?"
   ]
  },
  {
   "cell_type": "code",
   "execution_count": 50,
   "metadata": {},
   "outputs": [
    {
     "data": {
      "text/plain": [
       "6"
      ]
     },
     "execution_count": 50,
     "metadata": {},
     "output_type": "execute_result"
    }
   ],
   "source": [
    "len(chipo[chipo['item_name'] == 'Veggie Salad'])"
   ]
  },
  {
   "cell_type": "markdown",
   "metadata": {},
   "source": [
    "### Paso 9. ¿Cuántas veces pidió alguien más de un refresco en lata?"
   ]
  },
  {
   "cell_type": "code",
   "execution_count": 55,
   "metadata": {},
   "outputs": [
    {
     "data": {
      "text/plain": [
       "58"
      ]
     },
     "execution_count": 55,
     "metadata": {},
     "output_type": "execute_result"
    }
   ],
   "source": [
    "len(chipo[(chipo['item_name'].str.contains('[Ss]oda') | (chipo['item_name'].str.contains('[Dd]rink')))\n",
    "        & ( chipo['quantity'] > 1)])"
   ]
  }
 ],
 "metadata": {
  "anaconda-cloud": {},
  "kernelspec": {
   "display_name": "bootcamp-ds-Zopo5587-py3.12",
   "language": "python",
   "name": "python3"
  },
  "language_info": {
   "codemirror_mode": {
    "name": "ipython",
    "version": 3
   },
   "file_extension": ".py",
   "mimetype": "text/x-python",
   "name": "python",
   "nbconvert_exporter": "python",
   "pygments_lexer": "ipython3",
   "version": "3.12.6"
  }
 },
 "nbformat": 4,
 "nbformat_minor": 4
}
