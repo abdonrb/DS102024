{
 "cells": [
  {
   "cell_type": "markdown",
   "metadata": {},
   "source": [
    "# Ex1 - Filtrar y ordenar datos"
   ]
  },
  {
   "cell_type": "markdown",
   "metadata": {},
   "source": [
    "### Paso 1. Importar las bibliotecas necesarias"
   ]
  },
  {
   "cell_type": "code",
   "execution_count": 10,
   "metadata": {},
   "outputs": [],
   "source": [
    "import numpy as np\n",
    "import pandas as pd"
   ]
  },
  {
   "cell_type": "markdown",
   "metadata": {},
   "source": [
    "### Paso 2. Importar el conjunto de datos de esta [dirección](https://raw.githubusercontent.com/justmarkham/DAT8/master/data/chipotle.tsv). "
   ]
  },
  {
   "cell_type": "code",
   "execution_count": 11,
   "metadata": {},
   "outputs": [],
   "source": [
    "url = 'https://raw.githubusercontent.com/justmarkham/DAT8/master/data/chipotle.tsv'"
   ]
  },
  {
   "cell_type": "markdown",
   "metadata": {},
   "source": [
    "### Paso 3. Asígnalo a una variable llamada chipo."
   ]
  },
  {
   "cell_type": "code",
   "execution_count": 12,
   "metadata": {},
   "outputs": [],
   "source": [
    "chipo = pd.read_csv(url, sep='\\t')"
   ]
  },
  {
   "cell_type": "code",
   "execution_count": 13,
   "metadata": {},
   "outputs": [],
   "source": [
    "# chipo_copia = chipo.copy()"
   ]
  },
  {
   "cell_type": "code",
   "execution_count": 14,
   "metadata": {},
   "outputs": [
    {
     "data": {
      "text/html": [
       "<div>\n",
       "<style scoped>\n",
       "    .dataframe tbody tr th:only-of-type {\n",
       "        vertical-align: middle;\n",
       "    }\n",
       "\n",
       "    .dataframe tbody tr th {\n",
       "        vertical-align: top;\n",
       "    }\n",
       "\n",
       "    .dataframe thead th {\n",
       "        text-align: right;\n",
       "    }\n",
       "</style>\n",
       "<table border=\"1\" class=\"dataframe\">\n",
       "  <thead>\n",
       "    <tr style=\"text-align: right;\">\n",
       "      <th></th>\n",
       "      <th>order_id</th>\n",
       "      <th>quantity</th>\n",
       "      <th>item_name</th>\n",
       "      <th>choice_description</th>\n",
       "      <th>item_price</th>\n",
       "    </tr>\n",
       "  </thead>\n",
       "  <tbody>\n",
       "    <tr>\n",
       "      <th>0</th>\n",
       "      <td>1</td>\n",
       "      <td>1</td>\n",
       "      <td>Chips and Fresh Tomato Salsa</td>\n",
       "      <td>NaN</td>\n",
       "      <td>$2.39</td>\n",
       "    </tr>\n",
       "    <tr>\n",
       "      <th>1</th>\n",
       "      <td>1</td>\n",
       "      <td>1</td>\n",
       "      <td>Izze</td>\n",
       "      <td>[Clementine]</td>\n",
       "      <td>$3.39</td>\n",
       "    </tr>\n",
       "    <tr>\n",
       "      <th>2</th>\n",
       "      <td>1</td>\n",
       "      <td>1</td>\n",
       "      <td>Nantucket Nectar</td>\n",
       "      <td>[Apple]</td>\n",
       "      <td>$3.39</td>\n",
       "    </tr>\n",
       "    <tr>\n",
       "      <th>3</th>\n",
       "      <td>1</td>\n",
       "      <td>1</td>\n",
       "      <td>Chips and Tomatillo-Green Chili Salsa</td>\n",
       "      <td>NaN</td>\n",
       "      <td>$2.39</td>\n",
       "    </tr>\n",
       "    <tr>\n",
       "      <th>4</th>\n",
       "      <td>2</td>\n",
       "      <td>2</td>\n",
       "      <td>Chicken Bowl</td>\n",
       "      <td>[Tomatillo-Red Chili Salsa (Hot), [Black Beans...</td>\n",
       "      <td>$16.98</td>\n",
       "    </tr>\n",
       "  </tbody>\n",
       "</table>\n",
       "</div>"
      ],
      "text/plain": [
       "   order_id  quantity                              item_name  \\\n",
       "0         1         1           Chips and Fresh Tomato Salsa   \n",
       "1         1         1                                   Izze   \n",
       "2         1         1                       Nantucket Nectar   \n",
       "3         1         1  Chips and Tomatillo-Green Chili Salsa   \n",
       "4         2         2                           Chicken Bowl   \n",
       "\n",
       "                                  choice_description item_price  \n",
       "0                                                NaN     $2.39   \n",
       "1                                       [Clementine]     $3.39   \n",
       "2                                            [Apple]     $3.39   \n",
       "3                                                NaN     $2.39   \n",
       "4  [Tomatillo-Red Chili Salsa (Hot), [Black Beans...    $16.98   "
      ]
     },
     "execution_count": 14,
     "metadata": {},
     "output_type": "execute_result"
    }
   ],
   "source": [
    "chipo.head()"
   ]
  },
  {
   "cell_type": "markdown",
   "metadata": {},
   "source": [
    "# Nombre del producto de valor máximo"
   ]
  },
  {
   "cell_type": "code",
   "execution_count": 15,
   "metadata": {},
   "outputs": [],
   "source": [
    "precios_unicos = chipo[chipo['quantity'] == 1]"
   ]
  },
  {
   "cell_type": "code",
   "execution_count": 22,
   "metadata": {},
   "outputs": [
    {
     "name": "stdout",
     "output_type": "stream",
     "text": [
      "11.89\n",
      "Steak Salad Bowl\n"
     ]
    }
   ],
   "source": [
    "precios_unicos.loc[:,'item_price'] = precios_unicos.loc[:,'item_price'].replace('[$,]', '', regex=True)\n",
    "valor_max = precios_unicos['item_price'].max()\n",
    "item_max_valor = precios_unicos[precios_unicos['item_price'] == valor_max]['item_name'].iloc[0]\n",
    "print(valor_max)\n",
    "print(item_max_valor)"
   ]
  },
  {
   "cell_type": "markdown",
   "metadata": {},
   "source": [
    "### Paso 4. ¿Cuántos productos cuestan más de 10,00 dólares?"
   ]
  },
  {
   "cell_type": "code",
   "execution_count": null,
   "metadata": {},
   "outputs": [
    {
     "data": {
      "text/plain": [
       "1116"
      ]
     },
     "execution_count": 47,
     "metadata": {},
     "output_type": "execute_result"
    }
   ],
   "source": [
    "len(chipo[chipo['item_price'] >= 10.0].value_counts())"
   ]
  },
  {
   "cell_type": "markdown",
   "metadata": {},
   "source": [
    "### Paso 5. ¿Cuál es el precio de cada artículo?\n",
    "###### imprimir un marco de datos con sólo dos columnas nombre_artículo y precio_artículo"
   ]
  },
  {
   "cell_type": "code",
   "execution_count": null,
   "metadata": {},
   "outputs": [
    {
     "data": {
      "text/plain": [
       "item_name\n",
       "6 Pack Soft Drink                                                            [6.49, 12.98]\n",
       "Barbacoa Bowl                                      [11.75, 9.25, 8.99, 11.48, 8.69, 11.49]\n",
       "Barbacoa Burrito                                   [8.99, 9.25, 11.75, 11.08, 8.69, 11.48]\n",
       "Barbacoa Crispy Tacos                                     [11.75, 9.25, 11.48, 8.99, 18.5]\n",
       "Barbacoa Salad Bowl                                                          [11.89, 9.39]\n",
       "Barbacoa Soft Tacos                                             [9.25, 8.99, 11.75, 11.48]\n",
       "Bottled Water                            [1.09, 1.5, 3.0, 3.27, 2.18, 6.0, 7.5, 4.5, 10...\n",
       "Bowl                                                                           [22.2, 7.4]\n",
       "Burrito                                                                              [7.4]\n",
       "Canned Soda                                                             [2.18, 1.09, 4.36]\n",
       "Canned Soft Drink                                                   [1.25, 2.5, 3.75, 5.0]\n",
       "Carnitas Bowl                               [8.99, 11.75, 9.25, 11.48, 23.5, 11.08, 35.25]\n",
       "Carnitas Burrito                             [8.99, 9.25, 11.75, 11.48, 18.5, 11.08, 8.69]\n",
       "Carnitas Crispy Tacos                                           [9.25, 11.75, 8.99, 17.98]\n",
       "Carnitas Salad                                                                      [8.99]\n",
       "Carnitas Salad Bowl                                                          [11.89, 9.39]\n",
       "Carnitas Soft Tacos                                                    [9.25, 8.99, 11.75]\n",
       "Chicken Bowl                             [16.98, 10.98, 11.25, 8.75, 8.49, 17.5, 32.94,...\n",
       "Chicken Burrito                          [8.49, 10.98, 8.75, 17.5, 11.25, 10.58, 8.19, ...\n",
       "Chicken Crispy Tacos                               [8.75, 17.5, 11.25, 8.49, 10.98, 16.98]\n",
       "Chicken Salad                                                          [10.98, 8.49, 8.19]\n",
       "Chicken Salad Bowl                                               [8.75, 22.5, 17.5, 11.25]\n",
       "Chicken Soft Tacos                          [8.75, 11.25, 8.49, 17.5, 10.98, 16.98, 21.96]\n",
       "Chips                                                              [2.15, 4.3, 6.45, 1.99]\n",
       "Chips and Fresh Tomato Salsa                          [2.39, 2.95, 2.29, 11.8, 5.9, 44.25]\n",
       "Chips and Guacamole                      [4.45, 3.99, 4.0, 8.9, 3.89, 13.35, 7.98, 8.5,...\n",
       "Chips and Mild Fresh Tomato Salsa                                                    [3.0]\n",
       "Chips and Roasted Chili Corn Salsa                                             [2.95, 5.9]\n",
       "Chips and Roasted Chili-Corn Salsa                                                  [2.39]\n",
       "Chips and Tomatillo Green Chili Salsa                                          [2.95, 5.9]\n",
       "Chips and Tomatillo Red Chili Salsa                                            [2.95, 5.9]\n",
       "Chips and Tomatillo-Green Chili Salsa                                         [2.39, 4.78]\n",
       "Chips and Tomatillo-Red Chili Salsa                                     [2.39, 4.78, 7.17]\n",
       "Crispy Tacos                                                                         [7.4]\n",
       "Izze                                                                                [3.39]\n",
       "Nantucket Nectar                                                              [3.39, 6.78]\n",
       "Salad                                                                                [7.4]\n",
       "Side of Chips                                                          [1.69, 5.07, 13.52]\n",
       "Steak Bowl                               [8.99, 11.75, 11.48, 9.25, 11.08, 17.98, 8.69,...\n",
       "Steak Burrito                            [11.75, 9.25, 8.99, 11.48, 17.98, 11.08, 22.16...\n",
       "Steak Crispy Tacos                                        [9.25, 8.99, 8.69, 11.75, 17.98]\n",
       "Steak Salad                                                                   [8.99, 8.69]\n",
       "Steak Salad Bowl                                                      [23.78, 11.89, 9.39]\n",
       "Steak Soft Tacos                                          [9.25, 8.99, 11.75, 11.48, 18.5]\n",
       "Veggie Bowl                                              [11.25, 8.49, 8.75, 16.98, 10.98]\n",
       "Veggie Burrito                                           [11.25, 8.49, 10.98, 8.75, 33.75]\n",
       "Veggie Crispy Tacos                                                                 [8.49]\n",
       "Veggie Salad                                                                        [8.49]\n",
       "Veggie Salad Bowl                                                            [11.25, 8.75]\n",
       "Veggie Soft Tacos                                               [11.25, 8.75, 8.49, 16.98]\n",
       "Name: item_price, dtype: object"
      ]
     },
     "execution_count": 66,
     "metadata": {},
     "output_type": "execute_result"
    }
   ],
   "source": [
    "chipo.groupby('item_name')['item_price'].unique()"
   ]
  },
  {
   "cell_type": "markdown",
   "metadata": {},
   "source": [
    "### Paso 6. Ordenar por el nombre del artículo"
   ]
  },
  {
   "cell_type": "code",
   "execution_count": null,
   "metadata": {},
   "outputs": [
    {
     "data": {
      "text/plain": [
       "3389    6 Pack Soft Drink\n",
       "341     6 Pack Soft Drink\n",
       "1849    6 Pack Soft Drink\n",
       "1860    6 Pack Soft Drink\n",
       "2713    6 Pack Soft Drink\n",
       "              ...        \n",
       "2384    Veggie Soft Tacos\n",
       "781     Veggie Soft Tacos\n",
       "2851    Veggie Soft Tacos\n",
       "1699    Veggie Soft Tacos\n",
       "1395    Veggie Soft Tacos\n",
       "Name: item_name, Length: 4622, dtype: object"
      ]
     },
     "execution_count": 67,
     "metadata": {},
     "output_type": "execute_result"
    }
   ],
   "source": [
    "chipo['item_name'].sort_values()"
   ]
  },
  {
   "cell_type": "markdown",
   "metadata": {},
   "source": [
    "### Paso 7. ¿Cuál fue la cantidad pedida del artículo más caro? 2 formas"
   ]
  },
  {
   "cell_type": "code",
   "execution_count": 46,
   "metadata": {},
   "outputs": [
    {
     "data": {
      "text/plain": [
       "29"
      ]
     },
     "execution_count": 46,
     "metadata": {},
     "output_type": "execute_result"
    }
   ],
   "source": [
    "chipo[chipo['item_name'] == item_max_valor].shape[0]"
   ]
  },
  {
   "cell_type": "code",
   "execution_count": 47,
   "metadata": {},
   "outputs": [
    {
     "data": {
      "text/plain": [
       "29"
      ]
     },
     "execution_count": 47,
     "metadata": {},
     "output_type": "execute_result"
    }
   ],
   "source": [
    "len(chipo[chipo['item_name'] == item_max_valor])"
   ]
  },
  {
   "cell_type": "markdown",
   "metadata": {},
   "source": [
    "### Paso 8. ¿Cuántas veces pidió ensalada de verduras?"
   ]
  },
  {
   "cell_type": "code",
   "execution_count": 50,
   "metadata": {},
   "outputs": [
    {
     "data": {
      "text/plain": [
       "6"
      ]
     },
     "execution_count": 50,
     "metadata": {},
     "output_type": "execute_result"
    }
   ],
   "source": [
    "len(chipo[chipo['item_name'] == 'Veggie Salad'])"
   ]
  },
  {
   "cell_type": "markdown",
   "metadata": {},
   "source": [
    "### Paso 9. ¿Cuántas veces pidió alguien más de un refresco en lata?"
   ]
  },
  {
   "cell_type": "code",
   "execution_count": 55,
   "metadata": {},
   "outputs": [
    {
     "data": {
      "text/html": [
       "<div>\n",
       "<style scoped>\n",
       "    .dataframe tbody tr th:only-of-type {\n",
       "        vertical-align: middle;\n",
       "    }\n",
       "\n",
       "    .dataframe tbody tr th {\n",
       "        vertical-align: top;\n",
       "    }\n",
       "\n",
       "    .dataframe thead th {\n",
       "        text-align: right;\n",
       "    }\n",
       "</style>\n",
       "<table border=\"1\" class=\"dataframe\">\n",
       "  <thead>\n",
       "    <tr style=\"text-align: right;\">\n",
       "      <th></th>\n",
       "      <th>order_id</th>\n",
       "      <th>quantity</th>\n",
       "      <th>item_name</th>\n",
       "      <th>choice_description</th>\n",
       "      <th>item_price</th>\n",
       "    </tr>\n",
       "  </thead>\n",
       "  <tbody>\n",
       "    <tr>\n",
       "      <th>3389</th>\n",
       "      <td>1360</td>\n",
       "      <td>2</td>\n",
       "      <td>6 Pack Soft Drink</td>\n",
       "      <td>[Diet Coke]</td>\n",
       "      <td>12.98</td>\n",
       "    </tr>\n",
       "  </tbody>\n",
       "</table>\n",
       "</div>"
      ],
      "text/plain": [
       "      order_id  quantity          item_name choice_description  item_price\n",
       "3389      1360         2  6 Pack Soft Drink        [Diet Coke]       12.98"
      ]
     },
     "execution_count": 55,
     "metadata": {},
     "output_type": "execute_result"
    }
   ],
   "source": [
    "chipo[(chipo['item_name'] == '6 Pack Soft Drink') &( chipo['quantity'] > 1)]"
   ]
  }
 ],
 "metadata": {
  "anaconda-cloud": {},
  "kernelspec": {
   "display_name": "bootcamp-ds-Zopo5587-py3.12",
   "language": "python",
   "name": "python3"
  },
  "language_info": {
   "codemirror_mode": {
    "name": "ipython",
    "version": 3
   },
   "file_extension": ".py",
   "mimetype": "text/x-python",
   "name": "python",
   "nbconvert_exporter": "python",
   "pygments_lexer": "ipython3",
   "version": "3.12.6"
  }
 },
 "nbformat": 4,
 "nbformat_minor": 4
}
