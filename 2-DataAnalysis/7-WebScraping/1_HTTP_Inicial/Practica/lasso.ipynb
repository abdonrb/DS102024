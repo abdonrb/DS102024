{
 "cells": [
  {
   "cell_type": "markdown",
   "metadata": {},
   "source": [
    "# Ejercicio Scraping\n",
    "\n",
    "Descargar letras de canciones\n",
    "\n",
    "Utilizando beautiful soup descargar todas las canciones de [Lasso](https://es.wikipedia.org/wiki/Lasso_(cantante)) que hay en [letras.com](https://www.letras.com/lasso/)"
   ]
  },
  {
   "cell_type": "code",
   "execution_count": 1,
   "metadata": {},
   "outputs": [],
   "source": [
    "from bs4 import BeautifulSoup\n",
    "import requests\n",
    "import os\n",
    "\n",
    "letras_url = \"https://www.letras.com/lasso/\"\n",
    "\n",
    "def descargar_letras(artista):\n",
    "    # COMPLETAR\n",
    "    return\n",
    "        \n",
    "artista = \"lasso\"\n",
    "descargar_letras(artista)"
   ]
  },
  {
   "cell_type": "code",
   "execution_count": 4,
   "metadata": {},
   "outputs": [
    {
     "data": {
      "text/plain": [
       "[None,\n",
       " None,\n",
       " None,\n",
       " None,\n",
       " None,\n",
       " None,\n",
       " None,\n",
       " None,\n",
       " None,\n",
       " None,\n",
       " None,\n",
       " None,\n",
       " None,\n",
       " None,\n",
       " None,\n",
       " None,\n",
       " None,\n",
       " None,\n",
       " None,\n",
       " None]"
      ]
     },
     "execution_count": 4,
     "metadata": {},
     "output_type": "execute_result"
    }
   ],
   "source": [
    "html_obtenido = requests.get(letras_url)\n",
    "soup = BeautifulSoup(html_obtenido.text, \"html.parser\")\n",
    "\n",
    "letras = []\n",
    "todas_letras = soup.find_all('li',class_='songList-table-row --song')\n",
    "for nombre in todas_letras:\n",
    "    letra = nombre.find('data-name')\n",
    "    letras.append(letra)\n",
    "\n",
    "letras\n"
   ]
  },
  {
   "cell_type": "code",
   "execution_count": 3,
   "metadata": {},
   "outputs": [
    {
     "data": {
      "text/plain": [
       "[<li class=\"songList-table-row --song\" data-artist=\"Lasso\" data-dns=\"lasso\" data-id=\"3639169\" data-name=\"Ojos Marrones\" data-sharetext=\"Ojos Marrones de Lasso\" data-shareurl=\"https://www.letras.com/lasso/ojos-marrones/\" data-url=\"ojos-marrones\"> <a href=\"/lasso/ojos-marrones/\" title=\"Ojos Marrones\"><span>Ojos Marrones</span></a> <div class=\"songList-table-songOptions\"></div> </li>,\n",
       " <li class=\"songList-table-row --song\" data-artist=\"Lasso\" data-dns=\"lasso\" data-id=\"3166757\" data-name=\"Souvenir\" data-sharetext=\"Souvenir de Lasso\" data-shareurl=\"https://www.letras.com/lasso/souvenir/\" data-url=\"souvenir\"> <a href=\"/lasso/souvenir/\" title=\"Souvenir\"><span>Souvenir</span></a> <div class=\"songList-table-songOptions\"></div> </li>,\n",
       " <li class=\"songList-table-row --song\" data-artist=\"Lasso\" data-dns=\"lasso\" data-id=\"3110980\" data-name=\"Un Millón Como Tú (part. Cami)\" data-sharetext=\"Un Millón Como Tú (part. Cami) de Lasso\" data-shareurl=\"https://www.letras.com/lasso/un-millon-como-tu/\" data-url=\"un-millon-como-tu\"> <a href=\"/lasso/un-millon-como-tu/\" title=\"Un Millón Como Tú (part. Cami)\"><span>Un Millón Como Tú (part. Cami)</span></a> <div class=\"songList-table-songOptions\"></div> </li>,\n",
       " <li class=\"songList-table-row --song\" data-artist=\"Lasso\" data-dns=\"lasso\" data-id=\"4039812\" data-name=\"¿vienes o voy?\" data-sharetext=\"¿vienes o voy? de Lasso\" data-shareurl=\"https://www.letras.com/lasso/vienes-o-voy/\" data-url=\"vienes-o-voy\"> <a href=\"/lasso/vienes-o-voy/\" title=\"¿vienes o voy?\"><span>¿vienes o voy?</span></a> <div class=\"songList-table-songOptions\"></div> </li>,\n",
       " <li class=\"songList-table-row --song\" data-artist=\"Lasso\" data-dns=\"lasso\" data-id=\"2710296\" data-name=\"De Tú a Tú\" data-sharetext=\"De Tú a Tú de Lasso\" data-shareurl=\"https://www.letras.com/lasso/de-tu-a-tu/\" data-url=\"de-tu-a-tu\"> <a href=\"/lasso/de-tu-a-tu/\" title=\"De Tú a Tú\"><span>De Tú a Tú</span></a> <div class=\"songList-table-songOptions\"></div> </li>,\n",
       " <li class=\"songList-table-row --song\" data-artist=\"Lasso\" data-dns=\"lasso\" data-id=\"4052570\" data-name=\"En Otra Vida (part. Yami Safdie y Carin Leon)\" data-sharetext=\"En Otra Vida (part. Yami Safdie y Carin Leon) de Lasso\" data-shareurl=\"https://www.letras.com/lasso/en-otra-vida-part-yami-safdie-y-carin-leon/\" data-url=\"en-otra-vida-part-yami-safdie-y-carin-leon\"> <a href=\"/lasso/en-otra-vida-part-yami-safdie-y-carin-leon/\" title=\"En Otra Vida (part. Yami Safdie y Carin Leon)\"><span>En Otra Vida (part. Yami Safdie y Carin Leon)</span></a> <div class=\"songList-table-songOptions\"></div> </li>,\n",
       " <li class=\"songList-table-row --song\" data-artist=\"Lasso\" data-dns=\"lasso\" data-id=\"3345267\" data-name=\"Ibuprofeno\" data-sharetext=\"Ibuprofeno de Lasso\" data-shareurl=\"https://www.letras.com/lasso/ibuprofeno/\" data-url=\"ibuprofeno\"> <a href=\"/lasso/ibuprofeno/\" title=\"Ibuprofeno\"><span>Ibuprofeno</span></a> <div class=\"songList-table-songOptions\"></div> </li>,\n",
       " <li class=\"songList-table-row --song\" data-artist=\"Lasso\" data-dns=\"lasso\" data-id=\"3740419\" data-name=\"Los Hombres Son Todos Iguales\" data-sharetext=\"Los Hombres Son Todos Iguales de Lasso\" data-shareurl=\"https://www.letras.com/lasso/los-hombres-son-todos-iguales/\" data-url=\"los-hombres-son-todos-iguales\"> <a href=\"/lasso/los-hombres-son-todos-iguales/\" title=\"Los Hombres Son Todos Iguales\"><span>Los Hombres Son Todos Iguales</span></a> <div class=\"songList-table-songOptions\"></div> </li>,\n",
       " <li class=\"songList-table-row --song\" data-artist=\"Lasso\" data-dns=\"lasso\" data-id=\"3382420\" data-name=\"Cómo Te Odio\" data-sharetext=\"Cómo Te Odio de Lasso\" data-shareurl=\"https://www.letras.com/lasso/como-te-odio/\" data-url=\"como-te-odio\"> <a href=\"/lasso/como-te-odio/\" title=\"Cómo Te Odio\"><span>Cómo Te Odio</span></a> <div class=\"songList-table-songOptions\"></div> </li>,\n",
       " <li class=\"songList-table-row --song\" data-artist=\"Lasso\" data-dns=\"lasso\" data-id=\"3701144\" data-name=\"Corriendo Con Tijeras\" data-sharetext=\"Corriendo Con Tijeras de Lasso\" data-shareurl=\"https://www.letras.com/lasso/corriendo-con-tijeras/\" data-url=\"corriendo-con-tijeras\"> <a href=\"/lasso/corriendo-con-tijeras/\" title=\"Corriendo Con Tijeras\"><span>Corriendo Con Tijeras</span></a> <div class=\"songList-table-songOptions\"></div> </li>,\n",
       " <li class=\"songList-table-row --song\" data-artist=\"Lasso\" data-dns=\"lasso\" data-id=\"3753495\" data-name=\"Eva\" data-sharetext=\"Eva de Lasso\" data-shareurl=\"https://www.letras.com/lasso/eva/\" data-url=\"eva\"> <a href=\"/lasso/eva/\" title=\"Eva\"><span>Eva</span></a> <div class=\"songList-table-songOptions\"></div> </li>,\n",
       " <li class=\"songList-table-row --song\" data-artist=\"Lasso\" data-dns=\"lasso\" data-id=\"3843655\" data-name=\"Feliz Por Ti\" data-sharetext=\"Feliz Por Ti de Lasso\" data-shareurl=\"https://www.letras.com/lasso/feliz-por-ti/\" data-url=\"feliz-por-ti\"> <a href=\"/lasso/feliz-por-ti/\" title=\"Feliz Por Ti\"><span>Feliz Por Ti</span></a> <div class=\"songList-table-songOptions\"></div> </li>,\n",
       " <li class=\"songList-table-row --song\" data-artist=\"Lasso\" data-dns=\"lasso\" data-id=\"3673504\" data-name=\"Ojos Marrones (part. Sebastian Yatra)\" data-sharetext=\"Ojos Marrones (part. Sebastian Yatra) de Lasso\" data-shareurl=\"https://www.letras.com/lasso/ojos-marrones-part-sebastian-yatra/\" data-url=\"ojos-marrones-part-sebastian-yatra\"> <a href=\"/lasso/ojos-marrones-part-sebastian-yatra/\" title=\"Ojos Marrones (part. Sebastian Yatra)\"><span>Ojos Marrones (part. Sebastian Yatra)</span></a> <div class=\"songList-table-songOptions\"></div> </li>,\n",
       " <li class=\"songList-table-row --song\" data-artist=\"Lasso\" data-dns=\"lasso\" data-id=\"3961947\" data-name=\"Siempre Llegas Tarde (part. Sofia Reyes)\" data-sharetext=\"Siempre Llegas Tarde (part. Sofia Reyes) de Lasso\" data-shareurl=\"https://www.letras.com/lasso/siempre-llegas-tarde-part-sofia-reyes/\" data-url=\"siempre-llegas-tarde-part-sofia-reyes\"> <a href=\"/lasso/siempre-llegas-tarde-part-sofia-reyes/\" title=\"Siempre Llegas Tarde (part. Sofia Reyes)\"><span>Siempre Llegas Tarde (part. Sofia Reyes)</span></a> <div class=\"songList-table-songOptions\"></div> </li>,\n",
       " <li class=\"songList-table-row --song\" data-artist=\"Lasso\" data-dns=\"lasso\" data-id=\"3210260\" data-name=\"Subtítulos (part. Danna Paola)\" data-sharetext=\"Subtítulos (part. Danna Paola) de Lasso\" data-shareurl=\"https://www.letras.com/lasso/subtitulos-part-danna-paola/\" data-url=\"subtitulos-part-danna-paola\"> <a href=\"/lasso/subtitulos-part-danna-paola/\" title=\"Subtítulos (part. Danna Paola)\"><span>Subtítulos (part. Danna Paola)</span></a> <div class=\"songList-table-songOptions\"></div> </li>,\n",
       " <li class=\"songList-table-row --song\" data-artist=\"Lasso\" data-dns=\"lasso\" data-id=\"2166548\" data-name=\"Te Veo\" data-sharetext=\"Te Veo de Lasso\" data-shareurl=\"https://www.letras.com/lasso/te-veo/\" data-url=\"te-veo\"> <a href=\"/lasso/te-veo/\" title=\"Te Veo\"><span>Te Veo</span></a> <div class=\"songList-table-songOptions\"></div> </li>,\n",
       " <li class=\"songList-table-row --song\" data-artist=\"Lasso\" data-dns=\"lasso\" data-id=\"3451935\" data-name=\"Tenemos Que Hablar\" data-sharetext=\"Tenemos Que Hablar de Lasso\" data-shareurl=\"https://www.letras.com/lasso/tenemos-que-hablar/\" data-url=\"tenemos-que-hablar\"> <a href=\"/lasso/tenemos-que-hablar/\" title=\"Tenemos Que Hablar\"><span>Tenemos Que Hablar</span></a> <div class=\"songList-table-songOptions\"></div> </li>,\n",
       " <li class=\"songList-table-row --song\" data-artist=\"Lasso\" data-dns=\"lasso\" data-id=\"3857926\" data-name=\"Todo Regresa\" data-sharetext=\"Todo Regresa de Lasso\" data-shareurl=\"https://www.letras.com/lasso/todo-regresa/\" data-url=\"todo-regresa\"> <a href=\"/lasso/todo-regresa/\" title=\"Todo Regresa\"><span>Todo Regresa</span></a> <div class=\"songList-table-songOptions\"></div> </li>,\n",
       " <li class=\"songList-table-row --song\" data-artist=\"Lasso\" data-dns=\"lasso\" data-id=\"3689925\" data-name=\"Yo-yo\" data-sharetext=\"Yo-yo de Lasso\" data-shareurl=\"https://www.letras.com/lasso/yo-yo/\" data-url=\"yo-yo\"> <a href=\"/lasso/yo-yo/\" title=\"Yo-yo\"><span>Yo-yo</span></a> <div class=\"songList-table-songOptions\"></div> </li>,\n",
       " <li class=\"songList-table-row --song\" data-artist=\"Lasso\" data-dns=\"lasso\" data-id=\"3458201\" data-name=\"... pero no me dejes\" data-sharetext=\"... pero no me dejes de Lasso\" data-shareurl=\"https://www.letras.com/lasso/pero-no-me-dejes/\" data-url=\"pero-no-me-dejes\"> <a href=\"/lasso/pero-no-me-dejes/\" title=\"... pero no me dejes\"><span>... pero no me dejes</span></a> <div class=\"songList-table-songOptions\"></div> </li>]"
      ]
     },
     "execution_count": 3,
     "metadata": {},
     "output_type": "execute_result"
    }
   ],
   "source": [
    "todas_letras"
   ]
  }
 ],
 "metadata": {
  "instance_type": "ml.t3.medium",
  "kernelspec": {
   "display_name": "bootcamp-ds-Zopo5587-py3.12",
   "language": "python",
   "name": "python3"
  },
  "language_info": {
   "codemirror_mode": {
    "name": "ipython",
    "version": 3
   },
   "file_extension": ".py",
   "mimetype": "text/x-python",
   "name": "python",
   "nbconvert_exporter": "python",
   "pygments_lexer": "ipython3",
   "version": "3.12.6"
  }
 },
 "nbformat": 4,
 "nbformat_minor": 4
}
