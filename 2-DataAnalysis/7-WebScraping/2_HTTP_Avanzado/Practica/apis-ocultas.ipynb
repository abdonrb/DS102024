{
 "cells": [
  {
   "cell_type": "markdown",
   "metadata": {},
   "source": [
    "# Ejercicios APIs Ocultas"
   ]
  },
  {
   "cell_type": "markdown",
   "metadata": {},
   "source": [
    "# Idealista\n",
    "\n",
    "Elegir un departamento en Madrid que les guste desde [este link](https://www.idealista.com/venta-viviendas/madrid/carabanchel/pau-de-carabanchel/) y descargar sus datos utilizando la API oculta de idealista.\n"
   ]
  },
  {
   "cell_type": "code",
   "execution_count": 61,
   "metadata": {},
   "outputs": [],
   "source": [
    "import requests\n",
    "from bs4 import BeautifulSoup as bs\n",
    "import random\n",
    "import time\n",
    "import pandas as pd\n",
    "import numpy as np\n",
    "from selenium import webdriver\n",
    "from selenium.webdriver.common.by import By\n",
    "from selenium.webdriver.common.keys import Keys\n",
    "import undetected_chromedriver as uc\n",
    "import time"
   ]
  },
  {
   "cell_type": "code",
   "execution_count": 62,
   "metadata": {},
   "outputs": [
    {
     "ename": "NoSuchElementException",
     "evalue": "Message: no such element: Unable to locate element: {\"method\":\"xpath\",\"selector\":\"//*[@id=\"didomi-notice-agree-button\"]\"}\n  (Session info: chrome=132.0.6834.84); For documentation on this error, please visit: https://www.selenium.dev/documentation/webdriver/troubleshooting/errors#no-such-element-exception\nStacktrace:\n\tGetHandleVerifier [0x00D20A13+25091]\n\t(No symbol) [0x00CAA584]\n\t(No symbol) [0x00B8B3B3]\n\t(No symbol) [0x00BCF4A0]\n\t(No symbol) [0x00BCF61B]\n\t(No symbol) [0x00C0D882]\n\t(No symbol) [0x00BF1EF4]\n\t(No symbol) [0x00C0B43E]\n\t(No symbol) [0x00BF1C46]\n\t(No symbol) [0x00BC3175]\n\t(No symbol) [0x00BC42FD]\n\tGetHandleVerifier [0x01016493+3128451]\n\tGetHandleVerifier [0x0102994B+3207483]\n\tGetHandleVerifier [0x010245F2+3186146]\n\tGetHandleVerifier [0x00DB70C0+641200]\n\t(No symbol) [0x00CB36BD]\n\t(No symbol) [0x00CB0738]\n\t(No symbol) [0x00CB08D6]\n\t(No symbol) [0x00CA3040]\n\tBaseThreadInitThunk [0x7736FCC9+25]\n\tRtlGetAppContainerNamedObjectPath [0x774B809E+286]\n\tRtlGetAppContainerNamedObjectPath [0x774B806E+238]\n",
     "output_type": "error",
     "traceback": [
      "\u001b[1;31m---------------------------------------------------------------------------\u001b[0m",
      "\u001b[1;31mNoSuchElementException\u001b[0m                    Traceback (most recent call last)",
      "Cell \u001b[1;32mIn[62], line 5\u001b[0m\n\u001b[0;32m      3\u001b[0m browser\u001b[38;5;241m.\u001b[39mget(url)\n\u001b[0;32m      4\u001b[0m browser\u001b[38;5;241m.\u001b[39mimplicitly_wait(\u001b[38;5;241m10\u001b[39m)\n\u001b[1;32m----> 5\u001b[0m \u001b[43mbrowser\u001b[49m\u001b[38;5;241;43m.\u001b[39;49m\u001b[43mfind_element\u001b[49m\u001b[43m(\u001b[49m\u001b[38;5;124;43m'\u001b[39;49m\u001b[38;5;124;43mxpath\u001b[39;49m\u001b[38;5;124;43m'\u001b[39;49m\u001b[43m,\u001b[49m\u001b[38;5;124;43m'\u001b[39;49m\u001b[38;5;124;43m//*[@id=\u001b[39;49m\u001b[38;5;124;43m\"\u001b[39;49m\u001b[38;5;124;43mdidomi-notice-agree-button\u001b[39;49m\u001b[38;5;124;43m\"\u001b[39;49m\u001b[38;5;124;43m]\u001b[39;49m\u001b[38;5;124;43m'\u001b[39;49m\u001b[43m)\u001b[49m\u001b[38;5;241m.\u001b[39mclick()\n",
      "File \u001b[1;32mc:\\Users\\Abdon.RAMIREZ-BRICEN\\AppData\\Local\\pypoetry\\Cache\\virtualenvs\\bootcamp-ds-Zopo5587-py3.12\\Lib\\site-packages\\selenium\\webdriver\\remote\\webdriver.py:770\u001b[0m, in \u001b[0;36mWebDriver.find_element\u001b[1;34m(self, by, value)\u001b[0m\n\u001b[0;32m    767\u001b[0m         \u001b[38;5;28;01mraise\u001b[39;00m NoSuchElementException(\u001b[38;5;124mf\u001b[39m\u001b[38;5;124m\"\u001b[39m\u001b[38;5;124mCannot locate relative element with: \u001b[39m\u001b[38;5;132;01m{\u001b[39;00mby\u001b[38;5;241m.\u001b[39mroot\u001b[38;5;132;01m}\u001b[39;00m\u001b[38;5;124m\"\u001b[39m)\n\u001b[0;32m    768\u001b[0m     \u001b[38;5;28;01mreturn\u001b[39;00m elements[\u001b[38;5;241m0\u001b[39m]\n\u001b[1;32m--> 770\u001b[0m \u001b[38;5;28;01mreturn\u001b[39;00m \u001b[38;5;28;43mself\u001b[39;49m\u001b[38;5;241;43m.\u001b[39;49m\u001b[43mexecute\u001b[49m\u001b[43m(\u001b[49m\u001b[43mCommand\u001b[49m\u001b[38;5;241;43m.\u001b[39;49m\u001b[43mFIND_ELEMENT\u001b[49m\u001b[43m,\u001b[49m\u001b[43m \u001b[49m\u001b[43m{\u001b[49m\u001b[38;5;124;43m\"\u001b[39;49m\u001b[38;5;124;43musing\u001b[39;49m\u001b[38;5;124;43m\"\u001b[39;49m\u001b[43m:\u001b[49m\u001b[43m \u001b[49m\u001b[43mby\u001b[49m\u001b[43m,\u001b[49m\u001b[43m \u001b[49m\u001b[38;5;124;43m\"\u001b[39;49m\u001b[38;5;124;43mvalue\u001b[39;49m\u001b[38;5;124;43m\"\u001b[39;49m\u001b[43m:\u001b[49m\u001b[43m \u001b[49m\u001b[43mvalue\u001b[49m\u001b[43m}\u001b[49m\u001b[43m)\u001b[49m[\u001b[38;5;124m\"\u001b[39m\u001b[38;5;124mvalue\u001b[39m\u001b[38;5;124m\"\u001b[39m]\n",
      "File \u001b[1;32mc:\\Users\\Abdon.RAMIREZ-BRICEN\\AppData\\Local\\pypoetry\\Cache\\virtualenvs\\bootcamp-ds-Zopo5587-py3.12\\Lib\\site-packages\\selenium\\webdriver\\remote\\webdriver.py:384\u001b[0m, in \u001b[0;36mWebDriver.execute\u001b[1;34m(self, driver_command, params)\u001b[0m\n\u001b[0;32m    382\u001b[0m response \u001b[38;5;241m=\u001b[39m \u001b[38;5;28mself\u001b[39m\u001b[38;5;241m.\u001b[39mcommand_executor\u001b[38;5;241m.\u001b[39mexecute(driver_command, params)\n\u001b[0;32m    383\u001b[0m \u001b[38;5;28;01mif\u001b[39;00m response:\n\u001b[1;32m--> 384\u001b[0m     \u001b[38;5;28;43mself\u001b[39;49m\u001b[38;5;241;43m.\u001b[39;49m\u001b[43merror_handler\u001b[49m\u001b[38;5;241;43m.\u001b[39;49m\u001b[43mcheck_response\u001b[49m\u001b[43m(\u001b[49m\u001b[43mresponse\u001b[49m\u001b[43m)\u001b[49m\n\u001b[0;32m    385\u001b[0m     response[\u001b[38;5;124m\"\u001b[39m\u001b[38;5;124mvalue\u001b[39m\u001b[38;5;124m\"\u001b[39m] \u001b[38;5;241m=\u001b[39m \u001b[38;5;28mself\u001b[39m\u001b[38;5;241m.\u001b[39m_unwrap_value(response\u001b[38;5;241m.\u001b[39mget(\u001b[38;5;124m\"\u001b[39m\u001b[38;5;124mvalue\u001b[39m\u001b[38;5;124m\"\u001b[39m, \u001b[38;5;28;01mNone\u001b[39;00m))\n\u001b[0;32m    386\u001b[0m     \u001b[38;5;28;01mreturn\u001b[39;00m response\n",
      "File \u001b[1;32mc:\\Users\\Abdon.RAMIREZ-BRICEN\\AppData\\Local\\pypoetry\\Cache\\virtualenvs\\bootcamp-ds-Zopo5587-py3.12\\Lib\\site-packages\\selenium\\webdriver\\remote\\errorhandler.py:232\u001b[0m, in \u001b[0;36mErrorHandler.check_response\u001b[1;34m(self, response)\u001b[0m\n\u001b[0;32m    230\u001b[0m         alert_text \u001b[38;5;241m=\u001b[39m value[\u001b[38;5;124m\"\u001b[39m\u001b[38;5;124malert\u001b[39m\u001b[38;5;124m\"\u001b[39m]\u001b[38;5;241m.\u001b[39mget(\u001b[38;5;124m\"\u001b[39m\u001b[38;5;124mtext\u001b[39m\u001b[38;5;124m\"\u001b[39m)\n\u001b[0;32m    231\u001b[0m     \u001b[38;5;28;01mraise\u001b[39;00m exception_class(message, screen, stacktrace, alert_text)  \u001b[38;5;66;03m# type: ignore[call-arg]  # mypy is not smart enough here\u001b[39;00m\n\u001b[1;32m--> 232\u001b[0m \u001b[38;5;28;01mraise\u001b[39;00m exception_class(message, screen, stacktrace)\n",
      "\u001b[1;31mNoSuchElementException\u001b[0m: Message: no such element: Unable to locate element: {\"method\":\"xpath\",\"selector\":\"//*[@id=\"didomi-notice-agree-button\"]\"}\n  (Session info: chrome=132.0.6834.84); For documentation on this error, please visit: https://www.selenium.dev/documentation/webdriver/troubleshooting/errors#no-such-element-exception\nStacktrace:\n\tGetHandleVerifier [0x00D20A13+25091]\n\t(No symbol) [0x00CAA584]\n\t(No symbol) [0x00B8B3B3]\n\t(No symbol) [0x00BCF4A0]\n\t(No symbol) [0x00BCF61B]\n\t(No symbol) [0x00C0D882]\n\t(No symbol) [0x00BF1EF4]\n\t(No symbol) [0x00C0B43E]\n\t(No symbol) [0x00BF1C46]\n\t(No symbol) [0x00BC3175]\n\t(No symbol) [0x00BC42FD]\n\tGetHandleVerifier [0x01016493+3128451]\n\tGetHandleVerifier [0x0102994B+3207483]\n\tGetHandleVerifier [0x010245F2+3186146]\n\tGetHandleVerifier [0x00DB70C0+641200]\n\t(No symbol) [0x00CB36BD]\n\t(No symbol) [0x00CB0738]\n\t(No symbol) [0x00CB08D6]\n\t(No symbol) [0x00CA3040]\n\tBaseThreadInitThunk [0x7736FCC9+25]\n\tRtlGetAppContainerNamedObjectPath [0x774B809E+286]\n\tRtlGetAppContainerNamedObjectPath [0x774B806E+238]\n"
     ]
    }
   ],
   "source": [
    "browser = uc.Chrome()\n",
    "url = 'https://www.idealista.com/inmueble/106624412/'\n",
    "browser.get(url)\n",
    "browser.implicitly_wait(10)\n",
    "browser.find_element('xpath','//*[@id=\"didomi-notice-agree-button\"]').click()"
   ]
  },
  {
   "cell_type": "code",
   "execution_count": 6,
   "metadata": {},
   "outputs": [],
   "source": [
    "html = browser.page_source"
   ]
  },
  {
   "cell_type": "code",
   "execution_count": 9,
   "metadata": {},
   "outputs": [],
   "source": [
    "soup = bs(html,'lxml')"
   ]
  },
  {
   "cell_type": "code",
   "execution_count": 25,
   "metadata": {},
   "outputs": [],
   "source": [
    "titulo = soup.find('span', class_='main-info__title-main').text\n",
    "localizacion = soup.find('span', class_='main-info__title-minor').text.split(',')[0]\n",
    "precio = soup.find('span',class_='txt-bold').text.replace(',','')"
   ]
  },
  {
   "cell_type": "code",
   "execution_count": 41,
   "metadata": {},
   "outputs": [],
   "source": [
    "c_1 = soup.find('div',class_='details-property').find('div',class_='details-property-feature-one')\n",
    "c_2 = soup.find('div',class_='details-property').find('div',class_='details-property-feature-two')\n",
    "u = soup.find('div',id='headerMap',class_='clearfix')"
   ]
  },
  {
   "cell_type": "code",
   "execution_count": 60,
   "metadata": {},
   "outputs": [
    {
     "ename": "InvalidSessionIdException",
     "evalue": "Message: invalid session id: session deleted as the browser has closed the connection\nfrom disconnected: not connected to DevTools\n  (Session info: chrome=132.0.6834.84)\nStacktrace:\n\tGetHandleVerifier [0x00D20A13+25091]\n\t(No symbol) [0x00CAA584]\n\t(No symbol) [0x00B8B3B3]\n\t(No symbol) [0x00B7A73E]\n\t(No symbol) [0x00B7B49D]\n\t(No symbol) [0x00B8B8E2]\n\t(No symbol) [0x00B6CB05]\n\t(No symbol) [0x00BFDA2E]\n\t(No symbol) [0x00BF1E73]\n\t(No symbol) [0x00BC3175]\n\t(No symbol) [0x00BC42FD]\n\tGetHandleVerifier [0x01016493+3128451]\n\tGetHandleVerifier [0x0102994B+3207483]\n\tGetHandleVerifier [0x010245F2+3186146]\n\tGetHandleVerifier [0x00DB70C0+641200]\n\t(No symbol) [0x00CB36BD]\n\t(No symbol) [0x00CB0738]\n\t(No symbol) [0x00CB08D6]\n\t(No symbol) [0x00CA3040]\n\tBaseThreadInitThunk [0x7736FCC9+25]\n\tRtlGetAppContainerNamedObjectPath [0x774B809E+286]\n\tRtlGetAppContainerNamedObjectPath [0x774B806E+238]\n",
     "output_type": "error",
     "traceback": [
      "\u001b[1;31m---------------------------------------------------------------------------\u001b[0m",
      "\u001b[1;31mInvalidSessionIdException\u001b[0m                 Traceback (most recent call last)",
      "Cell \u001b[1;32mIn[60], line 5\u001b[0m\n\u001b[0;32m      2\u001b[0m caracteristicas_2 \u001b[38;5;241m=\u001b[39m [c2\u001b[38;5;241m.\u001b[39mtext\u001b[38;5;241m.\u001b[39mstrip() \u001b[38;5;28;01mfor\u001b[39;00m c2 \u001b[38;5;129;01min\u001b[39;00m c_2\u001b[38;5;241m.\u001b[39mfind_all(\u001b[38;5;124m'\u001b[39m\u001b[38;5;124mli\u001b[39m\u001b[38;5;124m'\u001b[39m)]\n\u001b[0;32m      3\u001b[0m ubicacion \u001b[38;5;241m=\u001b[39m [u\u001b[38;5;241m.\u001b[39mtext\u001b[38;5;241m.\u001b[39mstrip() \u001b[38;5;28;01mfor\u001b[39;00m u \u001b[38;5;129;01min\u001b[39;00m u\u001b[38;5;241m.\u001b[39mfind_all(\u001b[38;5;124m'\u001b[39m\u001b[38;5;124mli\u001b[39m\u001b[38;5;124m'\u001b[39m)]\n\u001b[1;32m----> 5\u001b[0m \u001b[43mbrowser\u001b[49m\u001b[38;5;241;43m.\u001b[39;49m\u001b[43mclose\u001b[49m\u001b[43m(\u001b[49m\u001b[43m)\u001b[49m\n\u001b[0;32m      6\u001b[0m browser\u001b[38;5;241m.\u001b[39mquit()\n",
      "File \u001b[1;32mc:\\Users\\Abdon.RAMIREZ-BRICEN\\AppData\\Local\\pypoetry\\Cache\\virtualenvs\\bootcamp-ds-Zopo5587-py3.12\\Lib\\site-packages\\selenium\\webdriver\\remote\\webdriver.py:495\u001b[0m, in \u001b[0;36mWebDriver.close\u001b[1;34m(self)\u001b[0m\n\u001b[0;32m    487\u001b[0m \u001b[38;5;28;01mdef\u001b[39;00m \u001b[38;5;21mclose\u001b[39m(\u001b[38;5;28mself\u001b[39m) \u001b[38;5;241m-\u001b[39m\u001b[38;5;241m>\u001b[39m \u001b[38;5;28;01mNone\u001b[39;00m:\n\u001b[0;32m    488\u001b[0m \u001b[38;5;250m    \u001b[39m\u001b[38;5;124;03m\"\"\"Closes the current window.\u001b[39;00m\n\u001b[0;32m    489\u001b[0m \n\u001b[0;32m    490\u001b[0m \u001b[38;5;124;03m    :Usage:\u001b[39;00m\n\u001b[1;32m   (...)\u001b[0m\n\u001b[0;32m    493\u001b[0m \u001b[38;5;124;03m            driver.close()\u001b[39;00m\n\u001b[0;32m    494\u001b[0m \u001b[38;5;124;03m    \"\"\"\u001b[39;00m\n\u001b[1;32m--> 495\u001b[0m     \u001b[38;5;28;43mself\u001b[39;49m\u001b[38;5;241;43m.\u001b[39;49m\u001b[43mexecute\u001b[49m\u001b[43m(\u001b[49m\u001b[43mCommand\u001b[49m\u001b[38;5;241;43m.\u001b[39;49m\u001b[43mCLOSE\u001b[49m\u001b[43m)\u001b[49m\n",
      "File \u001b[1;32mc:\\Users\\Abdon.RAMIREZ-BRICEN\\AppData\\Local\\pypoetry\\Cache\\virtualenvs\\bootcamp-ds-Zopo5587-py3.12\\Lib\\site-packages\\selenium\\webdriver\\remote\\webdriver.py:384\u001b[0m, in \u001b[0;36mWebDriver.execute\u001b[1;34m(self, driver_command, params)\u001b[0m\n\u001b[0;32m    382\u001b[0m response \u001b[38;5;241m=\u001b[39m \u001b[38;5;28mself\u001b[39m\u001b[38;5;241m.\u001b[39mcommand_executor\u001b[38;5;241m.\u001b[39mexecute(driver_command, params)\n\u001b[0;32m    383\u001b[0m \u001b[38;5;28;01mif\u001b[39;00m response:\n\u001b[1;32m--> 384\u001b[0m     \u001b[38;5;28;43mself\u001b[39;49m\u001b[38;5;241;43m.\u001b[39;49m\u001b[43merror_handler\u001b[49m\u001b[38;5;241;43m.\u001b[39;49m\u001b[43mcheck_response\u001b[49m\u001b[43m(\u001b[49m\u001b[43mresponse\u001b[49m\u001b[43m)\u001b[49m\n\u001b[0;32m    385\u001b[0m     response[\u001b[38;5;124m\"\u001b[39m\u001b[38;5;124mvalue\u001b[39m\u001b[38;5;124m\"\u001b[39m] \u001b[38;5;241m=\u001b[39m \u001b[38;5;28mself\u001b[39m\u001b[38;5;241m.\u001b[39m_unwrap_value(response\u001b[38;5;241m.\u001b[39mget(\u001b[38;5;124m\"\u001b[39m\u001b[38;5;124mvalue\u001b[39m\u001b[38;5;124m\"\u001b[39m, \u001b[38;5;28;01mNone\u001b[39;00m))\n\u001b[0;32m    386\u001b[0m     \u001b[38;5;28;01mreturn\u001b[39;00m response\n",
      "File \u001b[1;32mc:\\Users\\Abdon.RAMIREZ-BRICEN\\AppData\\Local\\pypoetry\\Cache\\virtualenvs\\bootcamp-ds-Zopo5587-py3.12\\Lib\\site-packages\\selenium\\webdriver\\remote\\errorhandler.py:232\u001b[0m, in \u001b[0;36mErrorHandler.check_response\u001b[1;34m(self, response)\u001b[0m\n\u001b[0;32m    230\u001b[0m         alert_text \u001b[38;5;241m=\u001b[39m value[\u001b[38;5;124m\"\u001b[39m\u001b[38;5;124malert\u001b[39m\u001b[38;5;124m\"\u001b[39m]\u001b[38;5;241m.\u001b[39mget(\u001b[38;5;124m\"\u001b[39m\u001b[38;5;124mtext\u001b[39m\u001b[38;5;124m\"\u001b[39m)\n\u001b[0;32m    231\u001b[0m     \u001b[38;5;28;01mraise\u001b[39;00m exception_class(message, screen, stacktrace, alert_text)  \u001b[38;5;66;03m# type: ignore[call-arg]  # mypy is not smart enough here\u001b[39;00m\n\u001b[1;32m--> 232\u001b[0m \u001b[38;5;28;01mraise\u001b[39;00m exception_class(message, screen, stacktrace)\n",
      "\u001b[1;31mInvalidSessionIdException\u001b[0m: Message: invalid session id: session deleted as the browser has closed the connection\nfrom disconnected: not connected to DevTools\n  (Session info: chrome=132.0.6834.84)\nStacktrace:\n\tGetHandleVerifier [0x00D20A13+25091]\n\t(No symbol) [0x00CAA584]\n\t(No symbol) [0x00B8B3B3]\n\t(No symbol) [0x00B7A73E]\n\t(No symbol) [0x00B7B49D]\n\t(No symbol) [0x00B8B8E2]\n\t(No symbol) [0x00B6CB05]\n\t(No symbol) [0x00BFDA2E]\n\t(No symbol) [0x00BF1E73]\n\t(No symbol) [0x00BC3175]\n\t(No symbol) [0x00BC42FD]\n\tGetHandleVerifier [0x01016493+3128451]\n\tGetHandleVerifier [0x0102994B+3207483]\n\tGetHandleVerifier [0x010245F2+3186146]\n\tGetHandleVerifier [0x00DB70C0+641200]\n\t(No symbol) [0x00CB36BD]\n\t(No symbol) [0x00CB0738]\n\t(No symbol) [0x00CB08D6]\n\t(No symbol) [0x00CA3040]\n\tBaseThreadInitThunk [0x7736FCC9+25]\n\tRtlGetAppContainerNamedObjectPath [0x774B809E+286]\n\tRtlGetAppContainerNamedObjectPath [0x774B806E+238]\n"
     ]
    }
   ],
   "source": [
    "caracteristicas_1 = [c1.text.strip() for c1 in c_1.find_all('li')]\n",
    "caracteristicas_2 = [c2.text.strip() for c2 in c_2.find_all('li')]\n",
    "ubicacion = [u.text.strip() for u in u.find_all('li')]\n",
    "\n",
    "browser.close()\n",
    "browser.quit()"
   ]
  },
  {
   "cell_type": "code",
   "execution_count": 74,
   "metadata": {},
   "outputs": [
    {
     "data": {
      "text/plain": [
       "('Piso en venta en calle del Patrimonio de la Humanidad',\n",
       " 'Pau de Carabanchel',\n",
       " '330.000',\n",
       " ['115 m² construidos',\n",
       "  '3 habitaciones',\n",
       "  '2 baños',\n",
       "  'Terraza',\n",
       "  'Plaza de garaje incluida en el precio',\n",
       "  'Segunda mano/buen estado',\n",
       "  'Armarios empotrados',\n",
       "  'Trastero',\n",
       "  'Construido en 2007',\n",
       "  'No dispone de calefacción',\n",
       "  'Bajo interior',\n",
       "  'Con ascensor'],\n",
       " ['Aire acondicionado', 'En trámite'],\n",
       " ['Calle del Patrimonio de la Humanidad',\n",
       "  'Barrio Pau de Carabanchel',\n",
       "  'Distrito Carabanchel',\n",
       "  'Madrid',\n",
       "  'Madrid capital, Madrid'])"
      ]
     },
     "execution_count": 74,
     "metadata": {},
     "output_type": "execute_result"
    }
   ],
   "source": [
    "titulo,localizacion,precio,caracteristicas_1,caracteristicas_2,ubicacion"
   ]
  }
 ],
 "metadata": {
  "kernelspec": {
   "display_name": "bootcamp-ds-Zopo5587-py3.12",
   "language": "python",
   "name": "python3"
  },
  "language_info": {
   "codemirror_mode": {
    "name": "ipython",
    "version": 3
   },
   "file_extension": ".py",
   "mimetype": "text/x-python",
   "name": "python",
   "nbconvert_exporter": "python",
   "pygments_lexer": "ipython3",
   "version": "3.12.6"
  }
 },
 "nbformat": 4,
 "nbformat_minor": 4
}
