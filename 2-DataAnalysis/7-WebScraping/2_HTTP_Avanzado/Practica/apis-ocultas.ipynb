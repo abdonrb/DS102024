{
 "cells": [
  {
   "cell_type": "markdown",
   "metadata": {},
   "source": [
    "# Ejercicios APIs Ocultas"
   ]
  },
  {
   "cell_type": "markdown",
   "metadata": {},
   "source": [
    "# Idealista\n",
    "\n",
    "Elegir un departamento en Madrid que les guste desde [este link](https://www.idealista.com/venta-viviendas/madrid/carabanchel/pau-de-carabanchel/) y descargar sus datos utilizando la API oculta de idealista.\n"
   ]
  },
  {
   "cell_type": "code",
   "execution_count": 75,
   "metadata": {},
   "outputs": [],
   "source": [
    "import requests\n",
    "from bs4 import BeautifulSoup as bs\n",
    "import random\n",
    "import time\n",
    "import pandas as pd\n",
    "import numpy as np\n",
    "from selenium import webdriver\n",
    "from selenium.webdriver.common.by import By\n",
    "from selenium.webdriver.common.keys import Keys\n",
    "import undetected_chromedriver as uc\n",
    "import time"
   ]
  },
  {
   "cell_type": "code",
   "execution_count": 76,
   "metadata": {},
   "outputs": [],
   "source": [
    "browser = uc.Chrome()\n",
    "url = 'https://www.idealista.com/inmueble/106624412/'\n",
    "browser.get(url)\n",
    "browser.implicitly_wait(10)\n",
    "browser.find_element('xpath','//*[@id=\"didomi-notice-agree-button\"]').click()"
   ]
  },
  {
   "cell_type": "code",
   "execution_count": 77,
   "metadata": {},
   "outputs": [],
   "source": [
    "html = browser.page_source"
   ]
  },
  {
   "cell_type": "code",
   "execution_count": 78,
   "metadata": {},
   "outputs": [],
   "source": [
    "soup = bs(html,'lxml')"
   ]
  },
  {
   "cell_type": "code",
   "execution_count": 79,
   "metadata": {},
   "outputs": [],
   "source": [
    "titulo = soup.find('span', class_='main-info__title-main').text\n",
    "localizacion = soup.find('span', class_='main-info__title-minor').text.split(',')[0]\n",
    "precio = soup.find('span',class_='txt-bold').text.replace(',','')"
   ]
  },
  {
   "cell_type": "code",
   "execution_count": 80,
   "metadata": {},
   "outputs": [],
   "source": [
    "c_1 = soup.find('div',class_='details-property').find('div',class_='details-property-feature-one')\n",
    "c_2 = soup.find('div',class_='details-property').find('div',class_='details-property-feature-two')\n",
    "u = soup.find('div',id='headerMap',class_='clearfix')"
   ]
  },
  {
   "cell_type": "code",
   "execution_count": 81,
   "metadata": {},
   "outputs": [],
   "source": [
    "caracteristicas_1 = [c1.text.strip() for c1 in c_1.find_all('li')]\n",
    "caracteristicas_2 = [c2.text.strip() for c2 in c_2.find_all('li')]\n",
    "ubicacion = [u.text.strip() for u in u.find_all('li')]\n",
    "\n",
    "browser.close()\n",
    "browser.quit()"
   ]
  },
  {
   "cell_type": "code",
   "execution_count": 82,
   "metadata": {},
   "outputs": [
    {
     "data": {
      "text/plain": [
       "('Piso en venta en calle del Patrimonio de la Humanidad',\n",
       " 'Pau de Carabanchel',\n",
       " '330.000',\n",
       " ['115 m² construidos',\n",
       "  '3 habitaciones',\n",
       "  '2 baños',\n",
       "  'Terraza',\n",
       "  'Plaza de garaje incluida en el precio',\n",
       "  'Segunda mano/buen estado',\n",
       "  'Armarios empotrados',\n",
       "  'Trastero',\n",
       "  'Construido en 2007',\n",
       "  'No dispone de calefacción',\n",
       "  'Bajo interior',\n",
       "  'Con ascensor'],\n",
       " ['Aire acondicionado', 'En trámite'],\n",
       " ['Calle del Patrimonio de la Humanidad',\n",
       "  'Barrio Pau de Carabanchel',\n",
       "  'Distrito Carabanchel',\n",
       "  'Madrid',\n",
       "  'Madrid capital, Madrid'])"
      ]
     },
     "execution_count": 82,
     "metadata": {},
     "output_type": "execute_result"
    }
   ],
   "source": [
    "titulo,localizacion,precio,caracteristicas_1,caracteristicas_2,ubicacion"
   ]
  }
 ],
 "metadata": {
  "kernelspec": {
   "display_name": "bootcamp-ds-Zopo5587-py3.12",
   "language": "python",
   "name": "python3"
  },
  "language_info": {
   "codemirror_mode": {
    "name": "ipython",
    "version": 3
   },
   "file_extension": ".py",
   "mimetype": "text/x-python",
   "name": "python",
   "nbconvert_exporter": "python",
   "pygments_lexer": "ipython3",
   "version": "3.12.6"
  }
 },
 "nbformat": 4,
 "nbformat_minor": 4
}
