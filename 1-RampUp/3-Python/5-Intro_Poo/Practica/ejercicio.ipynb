{
 "cells": [
  {
   "cell_type": "markdown",
   "metadata": {},
   "source": [
    "# Ejercicios POO IV\n",
    "\n",
    "## Programación orientada a objetos\n",
    "\n",
    "En este ejercicio vamos a programar un carrito de compras.\n",
    "\n",
    "Para esto vamos a escribir dos clases: Carrito e Item.\n",
    "\n",
    "El ítem va a tener como propiedades un nombre, un precio y una url de la imágen que lo representa. Por default, la url se inicializa en blanco.\n",
    "\n",
    "El Carrito tiene como propiedad una lista de diccionarios, la variable _lineas. \n",
    "\n",
    "Los carritos se inicializan vacíos y luego se agregan líneas utilizando el método agregar_línea(). Cada línea es un diccionario con dos claves: \"ítem\" que contiene un objeto de tipo ítem y \"cantidad\" según la cantidad que queremos agregar al carrito.\n",
    "\n",
    "Por último los carritos tienen un método get_total() que devuelve la suma de los precios de los ítems, multiplicados por las cantidades que hay en cada línea."
   ]
  },
  {
   "cell_type": "code",
   "execution_count": 1,
   "metadata": {},
   "outputs": [],
   "source": [
    "# Clase Item\n",
    "\n",
    "class Item:\n",
    "    def __init__(self, nombre, precio, url=''):\n",
    "        self.nombre = nombre\n",
    "        self.precio = precio\n",
    "        self.url = url"
   ]
  },
  {
   "cell_type": "code",
   "execution_count": 5,
   "metadata": {},
   "outputs": [],
   "source": [
    "# Crear los ítems harina de $1.50 y peperoni de $1.84\n",
    "harina = Item('Harina', 1.50)\n",
    "peperoni = Item('Peperoni', 1.84)"
   ]
  },
  {
   "cell_type": "code",
   "execution_count": 6,
   "metadata": {},
   "outputs": [],
   "source": [
    "# Crear la clase Carrito\n",
    "class Carrito:\n",
    "    def __init__(self):\n",
    "        self.lista = []\n",
    "        \n",
    "    def agregar_línea(self, cantidad, item):\n",
    "        self.lista.append({'cantidad': cantidad, 'item': item})\n",
    "\n",
    "    def get_total(self):\n",
    "        total = 0\n",
    "        for linea in self.lista:\n",
    "            total = total + (linea['cantidad'] * linea['item'].precio)\n",
    "        return total\n",
    "        \n",
    "        "
   ]
  },
  {
   "cell_type": "markdown",
   "metadata": {},
   "source": [
    "Ahora vamos a instanciar el carrito y agregarle una \"línea\" con dos kilos de harina y otra con tres peperonis."
   ]
  },
  {
   "cell_type": "code",
   "execution_count": 11,
   "metadata": {},
   "outputs": [],
   "source": [
    "# Instancias el carrito\n",
    "carrito = Carrito()"
   ]
  },
  {
   "cell_type": "code",
   "execution_count": 13,
   "metadata": {},
   "outputs": [],
   "source": [
    "# Agregar harina\n",
    "carrito.agregar_línea(2, harina)"
   ]
  },
  {
   "cell_type": "code",
   "execution_count": 14,
   "metadata": {},
   "outputs": [],
   "source": [
    "# Agregar peperoni\n",
    "carrito.agregar_línea(3, peperoni)"
   ]
  },
  {
   "cell_type": "code",
   "execution_count": 16,
   "metadata": {},
   "outputs": [
    {
     "data": {
      "text/plain": [
       "8.52"
      ]
     },
     "execution_count": 16,
     "metadata": {},
     "output_type": "execute_result"
    }
   ],
   "source": [
    "# Obtener el total\n",
    "carrito.get_total()"
   ]
  },
  {
   "cell_type": "markdown",
   "metadata": {},
   "source": [
    "## Ejercicio II\n",
    "\n",
    "Ahora vamos a crear dos clases. Primero una clase Réctangulo con los métodos area y base. Y luego una clase más específica que sea la Clase Cuadrado que herede los métodos de la clase Rectángulo. \n",
    "\n",
    "Una vez logrado esto vamos a crear una Tercera clase llamada Cubo cuya clase base va a responder a Cuadrado. En esta clase vas a agregar un método que sea volumen utilizando el método Área de su clase base o madre. "
   ]
  },
  {
   "cell_type": "code",
   "execution_count": 25,
   "metadata": {},
   "outputs": [],
   "source": [
    "class Rectangulo:\n",
    "    def __init__(self):\n",
    "     pass\n",
    "    def area(self):\n",
    "        self.base = 2\n",
    "        self.altura = 2\n",
    "        return self.base * self.altura\n",
    "    \n",
    "    def base(self):\n",
    "        self.base = 2\n",
    "        self.altura = 2\n",
    "        return self.base\n",
    "\n",
    "        "
   ]
  },
  {
   "cell_type": "code",
   "execution_count": 26,
   "metadata": {},
   "outputs": [],
   "source": [
    "rectangulo =  Rectangulo()"
   ]
  },
  {
   "cell_type": "code",
   "execution_count": 27,
   "metadata": {},
   "outputs": [
    {
     "name": "stdout",
     "output_type": "stream",
     "text": [
      "2\n"
     ]
    }
   ],
   "source": [
    "print(rectangulo.base())"
   ]
  },
  {
   "cell_type": "code",
   "execution_count": 29,
   "metadata": {},
   "outputs": [],
   "source": [
    "class Cuadrado(Rectangulo):\n",
    "    def __init__(self):\n",
    "        pass"
   ]
  },
  {
   "cell_type": "code",
   "execution_count": 30,
   "metadata": {},
   "outputs": [],
   "source": [
    "cuadrado = Cuadrado()"
   ]
  },
  {
   "cell_type": "code",
   "execution_count": 31,
   "metadata": {},
   "outputs": [
    {
     "name": "stdout",
     "output_type": "stream",
     "text": [
      "4\n"
     ]
    }
   ],
   "source": [
    "print(cuadrado.area())"
   ]
  },
  {
   "cell_type": "code",
   "execution_count": 32,
   "metadata": {},
   "outputs": [],
   "source": [
    "class Cubo(Cuadrado):\n",
    "    def __init__(self):\n",
    "        pass\n",
    "    def volumen(self):\n",
    "        return self.area() * 2"
   ]
  }
 ],
 "metadata": {
  "kernelspec": {
   "display_name": "Python 3",
   "language": "python",
   "name": "python3"
  },
  "language_info": {
   "codemirror_mode": {
    "name": "ipython",
    "version": 3
   },
   "file_extension": ".py",
   "mimetype": "text/x-python",
   "name": "python",
   "nbconvert_exporter": "python",
   "pygments_lexer": "ipython3",
   "version": "3.12.6"
  }
 },
 "nbformat": 4,
 "nbformat_minor": 4
}
