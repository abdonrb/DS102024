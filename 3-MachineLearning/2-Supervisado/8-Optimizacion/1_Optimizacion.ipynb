{
 "cells": [
  {
   "cell_type": "markdown",
   "id": "7c6869d9",
   "metadata": {},
   "source": [
    "# Optimización de Hiperparámetros en Machine Learning\n",
    "\n",
    "Este notebook explora diferentes técnicas de optimización de hiperparámetros usando el dataset del Titanic:\n",
    "1. GridSearchCV\n",
    "2. RandomizedSearchCV\n",
    "3. Optimización Bayesiana (con scikit-optimize)\n",
    "4. Optuna\n",
    "\n",
    "## Preparación de datos y configuración inicial"
   ]
  },
  {
   "cell_type": "code",
   "execution_count": 1,
   "id": "75b82abf",
   "metadata": {
    "lines_to_next_cell": 1
   },
   "outputs": [],
   "source": [
    "# Importamos las bibliotecas necesarias\n",
    "import numpy as np\n",
    "import pandas as pd\n",
    "from sklearn.model_selection import train_test_split, cross_val_score\n",
    "from sklearn.preprocessing import StandardScaler\n",
    "from sklearn.ensemble import RandomForestClassifier\n",
    "from sklearn.metrics import accuracy_score, classification_report\n",
    "import warnings\n",
    "warnings.filterwarnings('ignore')"
   ]
  },
  {
   "cell_type": "code",
   "execution_count": 2,
   "id": "16604094",
   "metadata": {
    "lines_to_next_cell": 1
   },
   "outputs": [],
   "source": [
    "# Cargamos y preparamos los datos del Titanic\n",
    "def preparar_datos_titanic():\n",
    "    # Cargamos los datos\n",
    "    df = pd.read_csv('https://raw.githubusercontent.com/datasciencedojo/datasets/master/titanic.csv')\n",
    "\n",
    "    # Preprocesamiento básico\n",
    "    df['Age'].fillna(df['Age'].median(), inplace=True)\n",
    "    df['Embarked'].fillna(df['Embarked'].mode()[0], inplace=True)\n",
    "\n",
    "    # Codificación de variables categóricas\n",
    "    df['Sex'] = df['Sex'].map({'female': 1, 'male': 0})\n",
    "    embarked_dummies = pd.get_dummies(df['Embarked'], prefix='Embarked')\n",
    "    df = pd.concat([df, embarked_dummies], axis=1)\n",
    "\n",
    "    # Seleccionamos características\n",
    "    features = ['Pclass', 'Sex', 'Age', 'SibSp', 'Parch', 'Fare',\n",
    "               'Embarked_C', 'Embarked_Q', 'Embarked_S']\n",
    "    X = df[features]\n",
    "    y = df['Survived']\n",
    "\n",
    "    # Dividimos los datos\n",
    "    X_train, X_test, y_train, y_test = train_test_split(X, y, test_size=0.2, random_state=42)\n",
    "\n",
    "    # Escalamos las características\n",
    "    scaler = StandardScaler()\n",
    "    X_train_scaled = scaler.fit_transform(X_train)\n",
    "    X_test_scaled = scaler.transform(X_test)\n",
    "\n",
    "    return X_train_scaled, X_test_scaled, y_train, y_test"
   ]
  },
  {
   "cell_type": "code",
   "execution_count": 3,
   "id": "b960bb08",
   "metadata": {},
   "outputs": [],
   "source": [
    "# Cargamos los datos\n",
    "X_train, X_test, y_train, y_test = preparar_datos_titanic()"
   ]
  },
  {
   "cell_type": "markdown",
   "id": "99d856de",
   "metadata": {},
   "source": [
    "## 1. GridSearchCV\n",
    "Búsqueda exhaustiva en una cuadrícula de hiperparámetros"
   ]
  },
  {
   "cell_type": "code",
   "execution_count": 4,
   "id": "7a01957b",
   "metadata": {},
   "outputs": [
    {
     "name": "stdout",
     "output_type": "stream",
     "text": [
      "Mejores parámetros (Grid): {'max_depth': 10, 'min_samples_leaf': 4, 'min_samples_split': 10, 'n_estimators': 100}\n",
      "Mejor puntuación (Grid): 0.8314192849404117\n",
      "\n",
      "Informe de clasificación (Grid):\n",
      "              precision    recall  f1-score   support\n",
      "\n",
      "           0       0.82      0.90      0.86       105\n",
      "           1       0.84      0.72      0.77        74\n",
      "\n",
      "    accuracy                           0.83       179\n",
      "   macro avg       0.83      0.81      0.82       179\n",
      "weighted avg       0.83      0.83      0.82       179\n",
      "\n"
     ]
    }
   ],
   "source": [
    "from sklearn.model_selection import GridSearchCV\n",
    "\n",
    "# Definimos el espacio de búsqueda\n",
    "param_grid = {\n",
    "    'n_estimators': [100, 200, 300],\n",
    "    'max_depth': [10, 20, 30, None],\n",
    "    'min_samples_split': [2, 5, 10],\n",
    "    'min_samples_leaf': [1, 2, 4]\n",
    "}\n",
    "\n",
    "# Creamos y ejecutamos GridSearchCV\n",
    "rf = RandomForestClassifier(random_state=42)\n",
    "grid_search = GridSearchCV(rf, param_grid, cv=5, scoring='accuracy', n_jobs=-1)\n",
    "grid_search.fit(X_train, y_train)\n",
    "\n",
    "# Evaluamos los resultados\n",
    "print(\"Mejores parámetros (Grid):\", grid_search.best_params_)\n",
    "print(\"Mejor puntuación (Grid):\", grid_search.best_score_)\n",
    "y_pred_grid = grid_search.predict(X_test)\n",
    "print(\"\\nInforme de clasificación (Grid):\")\n",
    "print(classification_report(y_test, y_pred_grid))"
   ]
  },
  {
   "cell_type": "markdown",
   "id": "d3aec54c",
   "metadata": {},
   "source": [
    "## 2. RandomizedSearchCV\n",
    "Búsqueda aleatoria en el espacio de hiperparámetros"
   ]
  },
  {
   "cell_type": "code",
   "execution_count": 5,
   "id": "6512a1d2",
   "metadata": {},
   "outputs": [
    {
     "name": "stdout",
     "output_type": "stream",
     "text": [
      "Mejores parámetros (Random): {'max_depth': 28, 'min_samples_leaf': 7, 'min_samples_split': 12, 'n_estimators': 187}\n",
      "Mejor puntuación (Random): 0.8286319314488327\n",
      "\n",
      "Informe de clasificación (Random):\n",
      "              precision    recall  f1-score   support\n",
      "\n",
      "           0       0.81      0.90      0.86       105\n",
      "           1       0.84      0.70      0.76        74\n",
      "\n",
      "    accuracy                           0.82       179\n",
      "   macro avg       0.83      0.80      0.81       179\n",
      "weighted avg       0.82      0.82      0.82       179\n",
      "\n"
     ]
    }
   ],
   "source": [
    "from sklearn.model_selection import RandomizedSearchCV\n",
    "from scipy.stats import randint, uniform\n",
    "\n",
    "# Definimos distribuciones para los parámetros\n",
    "param_distributions = {\n",
    "    'n_estimators': randint(100, 500),\n",
    "    'max_depth': randint(10, 50),\n",
    "    'min_samples_split': randint(2, 15),\n",
    "    'min_samples_leaf': randint(1, 10)\n",
    "}\n",
    "\n",
    "# Creamos y ejecutamos RandomizedSearchCV\n",
    "random_search = RandomizedSearchCV(\n",
    "    rf, param_distributions, n_iter=20, cv=5,\n",
    "    scoring='accuracy', n_jobs=-1, random_state=42\n",
    ")\n",
    "random_search.fit(X_train, y_train)\n",
    "\n",
    "# Evaluamos los resultados\n",
    "print(\"Mejores parámetros (Random):\", random_search.best_params_)\n",
    "print(\"Mejor puntuación (Random):\", random_search.best_score_)\n",
    "y_pred_random = random_search.predict(X_test)\n",
    "print(\"\\nInforme de clasificación (Random):\")\n",
    "print(classification_report(y_test, y_pred_random))"
   ]
  },
  {
   "cell_type": "markdown",
   "id": "3f266c22",
   "metadata": {},
   "source": [
    "## 3. Optimización Bayesiana\n",
    "Usando scikit-optimize para búsqueda más eficiente"
   ]
  },
  {
   "cell_type": "code",
   "execution_count": 6,
   "id": "43b936f2",
   "metadata": {},
   "outputs": [
    {
     "name": "stdout",
     "output_type": "stream",
     "text": [
      "Mejores parámetros (Bayes): OrderedDict({'max_depth': 41, 'min_samples_leaf': 6, 'min_samples_split': 5, 'n_estimators': 500})\n",
      "Mejor puntuación (Bayes): 0.8272037821333595\n",
      "\n",
      "Informe de clasificación (Bayes):\n",
      "              precision    recall  f1-score   support\n",
      "\n",
      "           0       0.81      0.90      0.86       105\n",
      "           1       0.84      0.70      0.76        74\n",
      "\n",
      "    accuracy                           0.82       179\n",
      "   macro avg       0.83      0.80      0.81       179\n",
      "weighted avg       0.82      0.82      0.82       179\n",
      "\n"
     ]
    }
   ],
   "source": [
    "from skopt import BayesSearchCV\n",
    "from skopt.space import Integer, Real\n",
    "\n",
    "# Definimos el espacio de búsqueda\n",
    "bayes_space = {\n",
    "    'n_estimators': Integer(100, 500),\n",
    "    'max_depth': Integer(10, 50),\n",
    "    'min_samples_split': Integer(2, 15),\n",
    "    'min_samples_leaf': Integer(1, 10)\n",
    "}\n",
    "\n",
    "# Creamos y ejecutamos BayesSearchCV\n",
    "bayes_search = BayesSearchCV(\n",
    "    rf, bayes_space, n_iter=20, cv=5,\n",
    "    scoring='accuracy', n_jobs=-1, random_state=42\n",
    ")\n",
    "bayes_search.fit(X_train, y_train)\n",
    "\n",
    "# Evaluamos los resultados\n",
    "print(\"Mejores parámetros (Bayes):\", bayes_search.best_params_)\n",
    "print(\"Mejor puntuación (Bayes):\", bayes_search.best_score_)\n",
    "y_pred_bayes = bayes_search.predict(X_test)\n",
    "print(\"\\nInforme de clasificación (Bayes):\")\n",
    "print(classification_report(y_test, y_pred_bayes))"
   ]
  },
  {
   "cell_type": "markdown",
   "id": "80da5768",
   "metadata": {},
   "source": [
    "## 4. Optuna\n",
    "Framework de optimización automática de hiperparámetros"
   ]
  },
  {
   "cell_type": "code",
   "execution_count": 7,
   "id": "fc9394a7",
   "metadata": {},
   "outputs": [
    {
     "name": "stderr",
     "output_type": "stream",
     "text": [
      "[I 2025-02-08 13:40:10,073] A new study created in memory with name: no-name-d08eb8df-a536-4652-8869-fadbfd96b73b\n",
      "[I 2025-02-08 13:40:12,581] Trial 0 finished with value: 0.8187727765192555 and parameters: {'n_estimators': 484, 'max_depth': 25, 'min_samples_split': 14, 'min_samples_leaf': 2}. Best is trial 0 with value: 0.8187727765192555.\n",
      "[I 2025-02-08 13:40:13,998] Trial 1 finished with value: 0.8230079779375554 and parameters: {'n_estimators': 274, 'max_depth': 35, 'min_samples_split': 5, 'min_samples_leaf': 7}. Best is trial 1 with value: 0.8230079779375554.\n",
      "[I 2025-02-08 13:40:15,638] Trial 2 finished with value: 0.8229981286319316 and parameters: {'n_estimators': 335, 'max_depth': 27, 'min_samples_split': 15, 'min_samples_leaf': 9}. Best is trial 1 with value: 0.8230079779375554.\n",
      "[I 2025-02-08 13:40:18,196] Trial 3 finished with value: 0.8146163695459471 and parameters: {'n_estimators': 486, 'max_depth': 16, 'min_samples_split': 3, 'min_samples_leaf': 2}. Best is trial 1 with value: 0.8230079779375554.\n",
      "[I 2025-02-08 13:40:19,696] Trial 4 finished with value: 0.824386880724909 and parameters: {'n_estimators': 307, 'max_depth': 24, 'min_samples_split': 11, 'min_samples_leaf': 9}. Best is trial 4 with value: 0.824386880724909.\n",
      "[I 2025-02-08 13:40:21,792] Trial 5 finished with value: 0.8159558751108047 and parameters: {'n_estimators': 424, 'max_depth': 36, 'min_samples_split': 15, 'min_samples_leaf': 7}. Best is trial 4 with value: 0.824386880724909.\n",
      "[I 2025-02-08 13:40:24,227] Trial 6 finished with value: 0.8188121737417513 and parameters: {'n_estimators': 467, 'max_depth': 27, 'min_samples_split': 7, 'min_samples_leaf': 2}. Best is trial 4 with value: 0.824386880724909.\n",
      "[I 2025-02-08 13:40:24,875] Trial 7 finished with value: 0.8244262779474049 and parameters: {'n_estimators': 132, 'max_depth': 41, 'min_samples_split': 11, 'min_samples_leaf': 7}. Best is trial 7 with value: 0.8244262779474049.\n",
      "[I 2025-02-08 13:40:26,854] Trial 8 finished with value: 0.8202009258347287 and parameters: {'n_estimators': 403, 'max_depth': 30, 'min_samples_split': 13, 'min_samples_leaf': 7}. Best is trial 7 with value: 0.8244262779474049.\n",
      "[I 2025-02-08 13:40:27,861] Trial 9 finished with value: 0.8202009258347287 and parameters: {'n_estimators': 207, 'max_depth': 32, 'min_samples_split': 6, 'min_samples_leaf': 9}. Best is trial 7 with value: 0.8244262779474049.\n",
      "[I 2025-02-08 13:40:28,396] Trial 10 finished with value: 0.8243770314192849 and parameters: {'n_estimators': 103, 'max_depth': 49, 'min_samples_split': 9, 'min_samples_leaf': 4}. Best is trial 7 with value: 0.8244262779474049.\n",
      "[I 2025-02-08 13:40:29,286] Trial 11 finished with value: 0.8187826258248794 and parameters: {'n_estimators': 182, 'max_depth': 45, 'min_samples_split': 11, 'min_samples_leaf': 10}. Best is trial 7 with value: 0.8244262779474049.\n",
      "[I 2025-02-08 13:40:30,776] Trial 12 finished with value: 0.8229981286319313 and parameters: {'n_estimators': 290, 'max_depth': 15, 'min_samples_split': 11, 'min_samples_leaf': 5}. Best is trial 7 with value: 0.8244262779474049.\n",
      "[I 2025-02-08 13:40:31,867] Trial 13 finished with value: 0.8202009258347287 and parameters: {'n_estimators': 212, 'max_depth': 41, 'min_samples_split': 10, 'min_samples_leaf': 8}. Best is trial 7 with value: 0.8244262779474049.\n",
      "[I 2025-02-08 13:40:32,390] Trial 14 finished with value: 0.8271939328277356 and parameters: {'n_estimators': 100, 'max_depth': 22, 'min_samples_split': 12, 'min_samples_leaf': 5}. Best is trial 14 with value: 0.8271939328277356.\n",
      "[I 2025-02-08 13:40:32,925] Trial 15 finished with value: 0.8244065793361568 and parameters: {'n_estimators': 103, 'max_depth': 19, 'min_samples_split': 13, 'min_samples_leaf': 4}. Best is trial 14 with value: 0.8271939328277356.\n",
      "[I 2025-02-08 13:40:33,736] Trial 16 finished with value: 0.8272037821333598 and parameters: {'n_estimators': 157, 'max_depth': 40, 'min_samples_split': 8, 'min_samples_leaf': 5}. Best is trial 16 with value: 0.8272037821333598.\n",
      "[I 2025-02-08 13:40:34,569] Trial 17 finished with value: 0.8258051807347583 and parameters: {'n_estimators': 165, 'max_depth': 21, 'min_samples_split': 8, 'min_samples_leaf': 5}. Best is trial 16 with value: 0.8272037821333598.\n",
      "[I 2025-02-08 13:40:35,763] Trial 18 finished with value: 0.824386880724909 and parameters: {'n_estimators': 223, 'max_depth': 10, 'min_samples_split': 2, 'min_samples_leaf': 4}. Best is trial 16 with value: 0.8272037821333598.\n",
      "[I 2025-02-08 13:40:36,528] Trial 19 finished with value: 0.8215896779277061 and parameters: {'n_estimators': 142, 'max_depth': 40, 'min_samples_split': 5, 'min_samples_leaf': 3}. Best is trial 16 with value: 0.8272037821333598.\n"
     ]
    },
    {
     "name": "stdout",
     "output_type": "stream",
     "text": [
      "Mejores parámetros (Optuna): {'n_estimators': 157, 'max_depth': 40, 'min_samples_split': 8, 'min_samples_leaf': 5}\n",
      "Mejor puntuación (Optuna): 0.8272037821333598\n",
      "\n",
      "Informe de clasificación (Optuna):\n",
      "              precision    recall  f1-score   support\n",
      "\n",
      "           0       0.81      0.90      0.86       105\n",
      "           1       0.84      0.70      0.76        74\n",
      "\n",
      "    accuracy                           0.82       179\n",
      "   macro avg       0.83      0.80      0.81       179\n",
      "weighted avg       0.82      0.82      0.82       179\n",
      "\n"
     ]
    }
   ],
   "source": [
    "import optuna\n",
    "\n",
    "def objetivo(trial):\n",
    "    # Definimos el espacio de búsqueda\n",
    "    params = {\n",
    "        'n_estimators': trial.suggest_int('n_estimators', 100, 500),\n",
    "        'max_depth': trial.suggest_int('max_depth', 10, 50),\n",
    "        'min_samples_split': trial.suggest_int('min_samples_split', 2, 15),\n",
    "        'min_samples_leaf': trial.suggest_int('min_samples_leaf', 1, 10)\n",
    "    }\n",
    "\n",
    "    # Creamos y entrenamos el modelo\n",
    "    rf = RandomForestClassifier(**params, random_state=42)\n",
    "\n",
    "    # Evaluamos usando validación cruzada\n",
    "    scores = cross_val_score(rf, X_train, y_train, cv=5, scoring='accuracy')\n",
    "    return scores.mean()\n",
    "\n",
    "# Creamos y ejecutamos el estudio de Optuna\n",
    "study = optuna.create_study(direction='maximize')\n",
    "study.optimize(objetivo, n_trials=20)\n",
    "\n",
    "# Evaluamos los resultados\n",
    "print(\"Mejores parámetros (Optuna):\", study.best_params)\n",
    "print(\"Mejor puntuación (Optuna):\", study.best_value)\n",
    "\n",
    "# Entrenamos el modelo final con los mejores parámetros\n",
    "rf_final = RandomForestClassifier(**study.best_params, random_state=42)\n",
    "rf_final.fit(X_train, y_train)\n",
    "y_pred_optuna = rf_final.predict(X_test)\n",
    "print(\"\\nInforme de clasificación (Optuna):\")\n",
    "print(classification_report(y_test, y_pred_optuna))"
   ]
  },
  {
   "cell_type": "markdown",
   "id": "47ba44be",
   "metadata": {},
   "source": [
    "## Comparación de Resultados"
   ]
  },
  {
   "cell_type": "code",
   "execution_count": 8,
   "id": "7a21d102",
   "metadata": {},
   "outputs": [
    {
     "name": "stdout",
     "output_type": "stream",
     "text": [
      "Comparación de resultados:\n",
      "               Método  Accuracy\n",
      "0        GridSearchCV  0.826816\n",
      "1  RandomizedSearchCV  0.821229\n",
      "2       BayesSearchCV  0.821229\n",
      "3              Optuna  0.821229\n"
     ]
    }
   ],
   "source": [
    "# Creamos un DataFrame con los resultados\n",
    "resultados = pd.DataFrame({\n",
    "    'Método': ['GridSearchCV', 'RandomizedSearchCV', 'BayesSearchCV', 'Optuna'],\n",
    "    'Accuracy': [\n",
    "        accuracy_score(y_test, y_pred_grid),\n",
    "        accuracy_score(y_test, y_pred_random),\n",
    "        accuracy_score(y_test, y_pred_bayes),\n",
    "        accuracy_score(y_test, y_pred_optuna)\n",
    "    ]\n",
    "})\n",
    "\n",
    "print(\"Comparación de resultados:\")\n",
    "print(resultados)"
   ]
  },
  {
   "cell_type": "markdown",
   "id": "efe87d74",
   "metadata": {},
   "source": [
    "## Conclusiones\n",
    "\n",
    "Este notebook demuestra diferentes métodos de optimización de hiperparámetros:\n",
    "\n",
    "1. GridSearchCV: Búsqueda exhaustiva pero computacionalmente costosa\n",
    "2. RandomizedSearchCV: Más eficiente que Grid Search, buenos resultados con menos tiempo\n",
    "3. Optimización Bayesiana: Búsqueda inteligente que aprende de iteraciones anteriores\n",
    "4. Optuna: Framework moderno con características avanzadas y visualización\n",
    "\n",
    "Cada método tiene sus ventajas y desventajas en términos de tiempo de computación y calidad de resultados."
   ]
  }
 ],
 "metadata": {
  "jupytext": {
   "cell_metadata_filter": "-all",
   "main_language": "python",
   "notebook_metadata_filter": "-all"
  },
  "kernelspec": {
   "display_name": "bootcamp-ds-Zopo5587-py3.12",
   "language": "python",
   "name": "python3"
  },
  "language_info": {
   "codemirror_mode": {
    "name": "ipython",
    "version": 3
   },
   "file_extension": ".py",
   "mimetype": "text/x-python",
   "name": "python",
   "nbconvert_exporter": "python",
   "pygments_lexer": "ipython3",
   "version": "3.12.6"
  }
 },
 "nbformat": 4,
 "nbformat_minor": 5
}
