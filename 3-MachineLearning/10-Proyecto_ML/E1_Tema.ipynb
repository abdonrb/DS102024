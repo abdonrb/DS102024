{
 "cells": [
  {
   "cell_type": "markdown",
   "metadata": {},
   "source": [
    "# Primera entrega ML"
   ]
  },
  {
   "cell_type": "markdown",
   "metadata": {},
   "source": [
    "### Título de proyecto"
   ]
  },
  {
   "cell_type": "code",
   "execution_count": null,
   "metadata": {},
   "outputs": [],
   "source": [
    "# Escribir el título de proyecto en Markdown\n",
    "titulo = \"Global Sales \""
   ]
  },
  {
   "cell_type": "markdown",
   "metadata": {},
   "source": [
    "### Tema"
   ]
  },
  {
   "cell_type": "code",
   "execution_count": null,
   "metadata": {},
   "outputs": [],
   "source": [
    "tema = \"\"\"Vamos a realizar varias predicciones como: Cuanto se vendera de cada producto, \n",
    "que genero comprara mas? que producto se vendera mas?\"\"\" # Breve descripción del proyecto"
   ]
  },
  {
   "cell_type": "markdown",
   "metadata": {},
   "source": [
    "Quiero realizar varios modelos para predecir varios problemas, no enfocarme en una target. Pero como principal dato a analizar: El dinero$$$. Aplicar algo de series temporales."
   ]
  },
  {
   "cell_type": "code",
   "execution_count": null,
   "metadata": {},
   "outputs": [],
   "source": [
    "# Describir el tema en Markdown "
   ]
  },
  {
   "cell_type": "markdown",
   "metadata": {},
   "source": []
  },
  {
   "cell_type": "markdown",
   "metadata": {},
   "source": [
    "### Datasets y fuentes alternativas de datos\n",
    "Incluye aquí una breve descripción del dataset o datasets para tu proyecto. Incluye también las fuentes de cada uno de ellos."
   ]
  },
  {
   "cell_type": "code",
   "execution_count": null,
   "metadata": {},
   "outputs": [],
   "source": [
    "tipo_ml = \"Regresion\" # Regresión? Clasificación?\n",
    "target_descr = \"Dinero\" # Descripción de la variable objetivo\n",
    "metricas = ['Rmse','R2','MAPE'] # Metricas escogidas para evaluar los modelos"
   ]
  },
  {
   "cell_type": "code",
   "execution_count": null,
   "metadata": {},
   "outputs": [],
   "source": [
    "# dasets y enlaces de datasets en Markdown\n",
    "enlaces = ['https://www.kaggle.com/datasets/adarsh0806/influencer-merchandise-sales/data'] # [\"www.paginacondatos.com\", \"www.paginawebscrapeada.com\", \"www.unaapi.com\"]"
   ]
  },
  {
   "cell_type": "code",
   "execution_count": 5,
   "metadata": {},
   "outputs": [],
   "source": [
    "import pandas as pd\n",
    "\n",
    "df_1 = pd.read_csv('ML_guide/Merch_processed.csv')\n"
   ]
  },
  {
   "cell_type": "code",
   "execution_count": 6,
   "metadata": {},
   "outputs": [
    {
     "data": {
      "text/html": [
       "<div>\n",
       "<style scoped>\n",
       "    .dataframe tbody tr th:only-of-type {\n",
       "        vertical-align: middle;\n",
       "    }\n",
       "\n",
       "    .dataframe tbody tr th {\n",
       "        vertical-align: top;\n",
       "    }\n",
       "\n",
       "    .dataframe thead th {\n",
       "        text-align: right;\n",
       "    }\n",
       "</style>\n",
       "<table border=\"1\" class=\"dataframe\">\n",
       "  <thead>\n",
       "    <tr style=\"text-align: right;\">\n",
       "      <th></th>\n",
       "      <th>Order_ID</th>\n",
       "      <th>Order_Date</th>\n",
       "      <th>Product_ID</th>\n",
       "      <th>Product_Category</th>\n",
       "      <th>Buyer_Gender</th>\n",
       "      <th>Buyer_Age</th>\n",
       "      <th>Order_Location</th>\n",
       "      <th>International_Shipping</th>\n",
       "      <th>Sales_Price</th>\n",
       "      <th>Shipping_Charges</th>\n",
       "      <th>Sales_per_Unit</th>\n",
       "      <th>Quantity</th>\n",
       "      <th>Total_Sales</th>\n",
       "      <th>Rating</th>\n",
       "    </tr>\n",
       "  </thead>\n",
       "  <tbody>\n",
       "    <tr>\n",
       "      <th>0</th>\n",
       "      <td>189440</td>\n",
       "      <td>2024-07-21</td>\n",
       "      <td>BF1543</td>\n",
       "      <td>Clothing</td>\n",
       "      <td>Male</td>\n",
       "      <td>30</td>\n",
       "      <td>New Jersey</td>\n",
       "      <td>No</td>\n",
       "      <td>100</td>\n",
       "      <td>0</td>\n",
       "      <td>100</td>\n",
       "      <td>1</td>\n",
       "      <td>100</td>\n",
       "      <td>4</td>\n",
       "    </tr>\n",
       "    <tr>\n",
       "      <th>1</th>\n",
       "      <td>187385</td>\n",
       "      <td>2024-07-20</td>\n",
       "      <td>BF1543</td>\n",
       "      <td>Clothing</td>\n",
       "      <td>Male</td>\n",
       "      <td>32</td>\n",
       "      <td>Las Vegas</td>\n",
       "      <td>No</td>\n",
       "      <td>100</td>\n",
       "      <td>0</td>\n",
       "      <td>100</td>\n",
       "      <td>1</td>\n",
       "      <td>100</td>\n",
       "      <td>3</td>\n",
       "    </tr>\n",
       "    <tr>\n",
       "      <th>2</th>\n",
       "      <td>181844</td>\n",
       "      <td>2024-07-21</td>\n",
       "      <td>BF1544</td>\n",
       "      <td>Other</td>\n",
       "      <td>Female</td>\n",
       "      <td>26</td>\n",
       "      <td>Cardiff</td>\n",
       "      <td>Yes</td>\n",
       "      <td>9</td>\n",
       "      <td>40</td>\n",
       "      <td>49</td>\n",
       "      <td>1</td>\n",
       "      <td>49</td>\n",
       "      <td>2</td>\n",
       "    </tr>\n",
       "    <tr>\n",
       "      <th>3</th>\n",
       "      <td>197934</td>\n",
       "      <td>2024-08-19</td>\n",
       "      <td>BF1544</td>\n",
       "      <td>Other</td>\n",
       "      <td>Male</td>\n",
       "      <td>28</td>\n",
       "      <td>Pittsburgh</td>\n",
       "      <td>No</td>\n",
       "      <td>9</td>\n",
       "      <td>0</td>\n",
       "      <td>9</td>\n",
       "      <td>2</td>\n",
       "      <td>18</td>\n",
       "      <td>3</td>\n",
       "    </tr>\n",
       "    <tr>\n",
       "      <th>4</th>\n",
       "      <td>122470</td>\n",
       "      <td>2024-01-06</td>\n",
       "      <td>BF1545</td>\n",
       "      <td>Other</td>\n",
       "      <td>Female</td>\n",
       "      <td>19</td>\n",
       "      <td>Miami</td>\n",
       "      <td>No</td>\n",
       "      <td>10</td>\n",
       "      <td>0</td>\n",
       "      <td>10</td>\n",
       "      <td>3</td>\n",
       "      <td>30</td>\n",
       "      <td>5</td>\n",
       "    </tr>\n",
       "  </tbody>\n",
       "</table>\n",
       "</div>"
      ],
      "text/plain": [
       "   Order_ID  Order_Date Product_ID Product_Category Buyer_Gender  Buyer_Age  \\\n",
       "0    189440  2024-07-21     BF1543         Clothing         Male         30   \n",
       "1    187385  2024-07-20     BF1543         Clothing         Male         32   \n",
       "2    181844  2024-07-21     BF1544            Other       Female         26   \n",
       "3    197934  2024-08-19     BF1544            Other         Male         28   \n",
       "4    122470  2024-01-06     BF1545            Other       Female         19   \n",
       "\n",
       "  Order_Location International_Shipping  Sales_Price  Shipping_Charges  \\\n",
       "0     New Jersey                     No          100                 0   \n",
       "1      Las Vegas                     No          100                 0   \n",
       "2        Cardiff                    Yes            9                40   \n",
       "3     Pittsburgh                     No            9                 0   \n",
       "4          Miami                     No           10                 0   \n",
       "\n",
       "   Sales_per_Unit  Quantity  Total_Sales  Rating  \n",
       "0             100         1          100       4  \n",
       "1             100         1          100       3  \n",
       "2              49         1           49       2  \n",
       "3               9         2           18       3  \n",
       "4              10         3           30       5  "
      ]
     },
     "execution_count": 6,
     "metadata": {},
     "output_type": "execute_result"
    }
   ],
   "source": [
    "# load dataset\n",
    "df_1.head()"
   ]
  },
  {
   "cell_type": "code",
   "execution_count": null,
   "metadata": {},
   "outputs": [],
   "source": [
    "# load dataset\n",
    "# df_2.head()"
   ]
  },
  {
   "cell_type": "code",
   "execution_count": null,
   "metadata": {},
   "outputs": [],
   "source": []
  }
 ],
 "metadata": {
  "kernelspec": {
   "display_name": "bootcamp-ds-Zopo5587-py3.12",
   "language": "python",
   "name": "python3"
  },
  "language_info": {
   "codemirror_mode": {
    "name": "ipython",
    "version": 3
   },
   "file_extension": ".py",
   "mimetype": "text/x-python",
   "name": "python",
   "nbconvert_exporter": "python",
   "pygments_lexer": "ipython3",
   "version": "3.12.6"
  },
  "orig_nbformat": 4
 },
 "nbformat": 4,
 "nbformat_minor": 2
}
